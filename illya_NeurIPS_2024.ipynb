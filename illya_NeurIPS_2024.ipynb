{
 "cells": [
  {
   "cell_type": "markdown",
   "id": "422a8a74-576d-4ec7-b291-f8b87d4b907c",
   "metadata": {},
   "source": [
    "- sequence to sequence learning with neural networks: what a decade\n",
    "    - https://www.youtube.com/watch?v=1yvBqasHLZs\n",
    "- sequence to sequence learning with neural networks\n",
    "    - 2014\n",
    "- what they did\n",
    "    - autoregressive model trained on text\n",
    "    - large neural network\n",
    "    - large dataset\n",
    "- Compute is growing, but data is not growing\n",
    "    - data is the fossil fuel of AI\n",
    "- What comes next?\n",
    "    - \"Agents\"\n",
    "    - \"Synthetic data\"\n",
    "    - \"Inference time compute\" ~ O1\n",
    "- What comes next? The long term\n",
    "    - SuperIntelligence\n",
    "        - Agentic\n",
    "        - Reasons\n",
    "            - the more it reasons the more unpredictable it\n",
    "        - Understands\n",
    "        - is self aware"
   ]
  }
 ],
 "metadata": {
  "kernelspec": {
   "display_name": "Python 3 (ipykernel)",
   "language": "python",
   "name": "python3"
  },
  "language_info": {
   "codemirror_mode": {
    "name": "ipython",
    "version": 3
   },
   "file_extension": ".py",
   "mimetype": "text/x-python",
   "name": "python",
   "nbconvert_exporter": "python",
   "pygments_lexer": "ipython3",
   "version": "3.10.13"
  }
 },
 "nbformat": 4,
 "nbformat_minor": 5
}
