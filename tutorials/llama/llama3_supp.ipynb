{
 "cells": [
  {
   "cell_type": "markdown",
   "id": "9a7cd888-f11c-49a3-9fab-c61690b4b512",
   "metadata": {},
   "source": [
    "## data"
   ]
  },
  {
   "cell_type": "markdown",
   "id": "5242e154-0a56-43f6-8868-05e571a1f935",
   "metadata": {},
   "source": [
    "- Llama 3 was **pretrained** on over 15 trillion tokens（15T） of data from **publicly available sources**.\n",
    "- The **fine-tuning** data includes publicly available **instruction datasets**, as well as over **10M human-annotated examples**.\n",
    "- Neither the pretraining nor the fine-tuning datasets include Meta user data."
   ]
  },
  {
   "cell_type": "markdown",
   "id": "cb173ebd-83a9-4ff5-9a79-eba126781a96",
   "metadata": {},
   "source": [
    "## config"
   ]
  },
  {
   "cell_type": "markdown",
   "id": "c4dd72fd-312e-4cdc-b9d7-4cd73520863e",
   "metadata": {},
   "source": [
    "- Meta-Llama-3-8B\n",
    "\n",
    "```\n",
    "{\n",
    "   \"dim\": 4096,\n",
    "    \"n_layers\": 32,\n",
    "    \"n_heads\": 32,\n",
    "    \"n_kv_heads\": 8,\n",
    "    \"vocab_size\": 128256,\n",
    "    \"multiple_of\": 1024,\n",
    "    \"ffn_dim_multiplier\": 1.3,\n",
    "    \"norm_eps\": 1e-05,\n",
    "    \"rope_theta\": 500000.0\n",
    "}\n",
    "```\n",
    "\n",
    "- rope_theta: base\n",
    "    - $5\\times 10^{5}$"
   ]
  },
  {
   "cell_type": "markdown",
   "id": "98802e27-a424-434f-a7d6-6465e155c54e",
   "metadata": {},
   "source": [
    "#### ffn layer shape"
   ]
  },
  {
   "cell_type": "markdown",
   "id": "d30435a9-ab48-43d9-816f-26ad27a51338",
   "metadata": {},
   "source": [
    "```\n",
    "self.feed_forward = FeedForward(\n",
    "    dim=args.dim,\n",
    "    hidden_dim=4 * args.dim,\n",
    "    multiple_of=args.multiple_of,\n",
    "    ffn_dim_multiplier=args.ffn_dim_multiplier,\n",
    ")\n",
    "```"
   ]
  },
  {
   "cell_type": "code",
   "execution_count": 5,
   "id": "5d04dae0-ee32-4ed2-9541-a835c7585231",
   "metadata": {
    "execution": {
     "iopub.execute_input": "2024-09-10T16:25:21.146683Z",
     "iopub.status.busy": "2024-09-10T16:25:21.146072Z",
     "iopub.status.idle": "2024-09-10T16:25:21.156131Z",
     "shell.execute_reply": "2024-09-10T16:25:21.154106Z",
     "shell.execute_reply.started": "2024-09-10T16:25:21.146638Z"
    }
   },
   "outputs": [],
   "source": [
    "hidden_dim = 4*4096"
   ]
  },
  {
   "cell_type": "markdown",
   "id": "d79a0ee2-4fee-4059-a778-d08e4b5a5b09",
   "metadata": {},
   "source": [
    "```\n",
    "class FeedForward(nn.Module):\n",
    "    def __init__(\n",
    "        self,\n",
    "        dim: int,\n",
    "        hidden_dim: int,\n",
    "        multiple_of: int,\n",
    "        ffn_dim_multiplier: Optional[float],\n",
    "    ):\n",
    "        super().__init__()\n",
    "        hidden_dim = int(2 * hidden_dim / 3)\n",
    "        # custom dim factor multiplier\n",
    "        if ffn_dim_multiplier is not None:\n",
    "            hidden_dim = int(ffn_dim_multiplier * hidden_dim)\n",
    "        hidden_dim = multiple_of * ((hidden_dim + multiple_of - 1) // multiple_of)\n",
    "\n",
    "        self.w1 = ColumnParallelLinear(\n",
    "            dim, hidden_dim, bias=False, gather_output=False, init_method=lambda x: x\n",
    "        )\n",
    "        self.w2 = RowParallelLinear(\n",
    "            hidden_dim, dim, bias=False, input_is_parallel=True, init_method=lambda x: x\n",
    "        )\n",
    "        self.w3 = ColumnParallelLinear(\n",
    "            dim, hidden_dim, bias=False, gather_output=False, init_method=lambda x: x\n",
    "        )\n",
    "\n",
    "    def forward(self, x):\n",
    "        return self.w2(F.silu(self.w1(x)) * self.w3(x))\n",
    "```"
   ]
  },
  {
   "cell_type": "code",
   "execution_count": 6,
   "id": "555709cc-231a-44a3-9ee5-dedcd06b51b5",
   "metadata": {
    "execution": {
     "iopub.execute_input": "2024-09-10T16:25:23.336330Z",
     "iopub.status.busy": "2024-09-10T16:25:23.335712Z",
     "iopub.status.idle": "2024-09-10T16:25:23.348983Z",
     "shell.execute_reply": "2024-09-10T16:25:23.346869Z",
     "shell.execute_reply.started": "2024-09-10T16:25:23.336285Z"
    }
   },
   "outputs": [
    {
     "data": {
      "text/plain": [
       "14336"
      ]
     },
     "execution_count": 6,
     "metadata": {},
     "output_type": "execute_result"
    }
   ],
   "source": [
    "hidden_dim = int(2*hidden_dim / 3)\n",
    "hidden_dim = int(1.3 * hidden_dim)\n",
    "hidden_dim = 1024 * ((hidden_dim + 1024 - 1) // 1024)\n",
    "hidden_dim"
   ]
  },
  {
   "cell_type": "code",
   "execution_count": 7,
   "id": "00023a07-87e1-49b4-b76b-e0df57baeb68",
   "metadata": {
    "execution": {
     "iopub.execute_input": "2024-09-10T16:25:30.851988Z",
     "iopub.status.busy": "2024-09-10T16:25:30.851405Z",
     "iopub.status.idle": "2024-09-10T16:25:30.861615Z",
     "shell.execute_reply": "2024-09-10T16:25:30.860370Z",
     "shell.execute_reply.started": "2024-09-10T16:25:30.851943Z"
    }
   },
   "outputs": [
    {
     "data": {
      "text/plain": [
       "3.5"
      ]
     },
     "execution_count": 7,
     "metadata": {},
     "output_type": "execute_result"
    }
   ],
   "source": [
    "14336 / 4096"
   ]
  },
  {
   "cell_type": "code",
   "execution_count": null,
   "id": "53c31bac-0e90-42c4-be00-be945bce96b0",
   "metadata": {},
   "outputs": [],
   "source": []
  }
 ],
 "metadata": {
  "kernelspec": {
   "display_name": "Python 3 (ipykernel)",
   "language": "python",
   "name": "python3"
  },
  "language_info": {
   "codemirror_mode": {
    "name": "ipython",
    "version": 3
   },
   "file_extension": ".py",
   "mimetype": "text/x-python",
   "name": "python",
   "nbconvert_exporter": "python",
   "pygments_lexer": "ipython3",
   "version": "3.10.13"
  }
 },
 "nbformat": 4,
 "nbformat_minor": 5
}
