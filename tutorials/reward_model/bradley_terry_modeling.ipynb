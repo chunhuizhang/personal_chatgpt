{
 "cells": [
  {
   "cell_type": "code",
   "execution_count": 1,
   "id": "0e7c1ebf-973d-4473-9478-717f17d4a418",
   "metadata": {
    "execution": {
     "iopub.execute_input": "2024-11-09T08:12:59.460950Z",
     "iopub.status.busy": "2024-11-09T08:12:59.460357Z",
     "iopub.status.idle": "2024-11-09T08:12:59.847913Z",
     "shell.execute_reply": "2024-11-09T08:12:59.846212Z",
     "shell.execute_reply.started": "2024-11-09T08:12:59.460903Z"
    }
   },
   "outputs": [],
   "source": [
    "import numpy as np\n",
    "from scipy.optimize import minimize\n"
   ]
  },
  {
   "cell_type": "markdown",
   "id": "f170cbe6-da5b-4e7a-a4c4-08345434fb91",
   "metadata": {},
   "source": [
    "- https://en.wikipedia.org/wiki/Bradley%E2%80%93Terry_model\n",
    "- https://chatgpt.com/c/672eeaa4-4b84-800e-832b-87dad7fa7f66"
   ]
  },
  {
   "cell_type": "code",
   "execution_count": 5,
   "id": "3a5ea37d-dc4a-4314-a650-81eea0ac0fb4",
   "metadata": {
    "execution": {
     "iopub.execute_input": "2024-11-09T08:26:24.643929Z",
     "iopub.status.busy": "2024-11-09T08:26:24.643270Z",
     "iopub.status.idle": "2024-11-09T08:26:24.679974Z",
     "shell.execute_reply": "2024-11-09T08:26:24.677815Z",
     "shell.execute_reply.started": "2024-11-09T08:26:24.643884Z"
    }
   },
   "outputs": [
    {
     "name": "stdout",
     "output_type": "stream",
     "text": [
      "Optimization converged after 2 iterations.\n",
      "团队强度参数 p_i：\n",
      "团队 A 的强度参数 p_A = 1.0000\n",
      "团队 B 的强度参数 p_B = 1.6306\n",
      "团队 C 的强度参数 p_C = 1.0312\n",
      "团队 D 的强度参数 p_D = 3.5484\n",
      "\n",
      "归一化的团队强度参数 p_i (总和为1)：\n",
      "团队 A 的归一化强度参数 p_A = 0.1387\n",
      "团队 B 的归一化强度参数 p_B = 0.2262\n",
      "团队 C 的归一化强度参数 p_C = 0.1430\n",
      "团队 D 的归一化强度参数 p_D = 0.4921\n"
     ]
    }
   ],
   "source": [
    "import numpy as np\n",
    "from scipy.optimize import minimize\n",
    "\n",
    "# 胜利次数矩阵\n",
    "w = np.array([\n",
    "    [0, 2, 0, 1],\n",
    "    [3, 0, 5, 0],\n",
    "    [0, 3, 0, 1],\n",
    "    [4, 0, 3, 0]\n",
    "])\n",
    "\n",
    "# 总比赛次数矩阵\n",
    "n = w + w.T\n",
    "\n",
    "def neg_log_likelihood(theta):\n",
    "    theta_full = np.concatenate(([0], theta))\n",
    "    exp_theta = np.exp(theta_full)\n",
    "    L = 0\n",
    "    for i in range(len(w)):\n",
    "        for j in range(i+1, len(w)):\n",
    "            if n[i, j] > 0:\n",
    "                L += (\n",
    "                    w[i, j] * theta_full[i] +\n",
    "                    w[j, i] * theta_full[j] -\n",
    "                    n[i, j] * np.log(exp_theta[i] + exp_theta[j])\n",
    "                )\n",
    "    return -L\n",
    "\n",
    "# 设置初始猜测和收敛条件\n",
    "theta_opt = np.zeros(3)\n",
    "tolerance = 1e-6\n",
    "max_iterations = 10\n",
    "\n",
    "for iteration in range(max_iterations):\n",
    "    result = minimize(\n",
    "        neg_log_likelihood,\n",
    "        theta_opt,\n",
    "        method='BFGS'\n",
    "    )\n",
    "    \n",
    "    if not result.success:\n",
    "        raise Exception('Optimization failed: ' + result.message)\n",
    "    \n",
    "    # 检查参数变化是否小于阈值\n",
    "    if np.all(np.abs(theta_opt - result.x) < tolerance):\n",
    "        print(f\"Optimization converged after {iteration + 1} iterations.\")\n",
    "        break\n",
    "    \n",
    "    theta_opt = result.x\n",
    "\n",
    "theta_full = np.concatenate(([0], theta_opt))\n",
    "p = np.exp(theta_full)\n",
    "p_normalized = p / np.sum(p)\n",
    "\n",
    "# 输出结果\n",
    "teams = ['A', 'B', 'C', 'D']\n",
    "print(\"团队强度参数 p_i：\")\n",
    "for i in range(len(teams)):\n",
    "    print(f\"团队 {teams[i]} 的强度参数 p_{teams[i]} = {p[i]:.4f}\")\n",
    "\n",
    "print(\"\\n归一化的团队强度参数 p_i (总和为1)：\")\n",
    "for i in range(len(teams)):\n",
    "    print(f\"团队 {teams[i]} 的归一化强度参数 p_{teams[i]} = {p_normalized[i]:.4f}\")\n"
   ]
  },
  {
   "cell_type": "markdown",
   "id": "4b4cd0cb-6a4d-4585-8bd7-59f437c3b58b",
   "metadata": {
    "jp-MarkdownHeadingCollapsed": true
   },
   "source": [
    "- Paired Comparison Analysis\n",
    "    \n",
    "    Suppose 100 consumers compare five tyre brands as follows:\n",
    "    \n",
    "    | Brand   | Dunlop | Modi | Ceat | GoodYear | MRF |\n",
    "    |---------|--------|------|------|----------|-----|\n",
    "    | Dunlop  | -      | 80   | 59   | 52       | 77  |\n",
    "    | Modi    | 20     | -    | 60   | 46       | 56  |\n",
    "    | Ceat    | 41     | 40   | -    | 61       | 60  |\n",
    "    | G.Year  | 48     | 54   | 39   | -        | 67  |\n",
    "    | MRF     | 23     | 44   | 40   | 33       | -   |"
   ]
  },
  {
   "cell_type": "markdown",
   "id": "d94a02aa-66ac-40b8-97f9-02ed468b7bf6",
   "metadata": {},
   "source": [
    "- 我们引入一个正的能力参数 $\\pi_i\\gt 0$，表示消费者对品牌 $i$ 的偏好强度。\n",
    "- 对于每一对不同的品牌 $(i,j)$，我们有以下的观测数据\n",
    "    - $n_{ij}$, 在比较中消费者选择品牌 $i$ 而不是品牌 $j$ 的次数；\n",
    "    - $n_{ji}$, 在比较中消费者选择品牌 $j$ 而不是品牌 $i$ 的次数；\n",
    "    - $n_{ij}+n_{ji}=n_{ij}^{total}$，两品牌被比较的总次数；\n",
    "- Bradley-Terry 模型的概率表示\n",
    "    - 假设品牌 $i$ 被偏好于品牌 $j$ 的概率 $P{ij}$\n",
    "        - $P_{ij}=\\frac{\\pi_i}{\\pi_{i}+\\pi_j}$\n",
    "    - 相应地\n",
    "        - $P_{ji}=\\frac{\\pi_j}{\\pi_i+\\pi_j}$\n",
    "- 基于成对比较数据和 Bradley-Terry 模型，我们可以构建对数似然函数\n",
    "    - $\\ell(\\pi)=\\sum n_{ij}\\log\\frac{\\pi_i}{\\pi_i+\\pi_j}+n_{ji}\\log\\frac{\\pi_j}{\\pi_i+\\pi_j}$\n"
   ]
  },
  {
   "cell_type": "code",
   "execution_count": 2,
   "id": "9823ee5d-2441-4c70-a7b2-14f13e60f164",
   "metadata": {
    "execution": {
     "iopub.execute_input": "2024-11-09T08:13:50.991440Z",
     "iopub.status.busy": "2024-11-09T08:13:50.991066Z",
     "iopub.status.idle": "2024-11-09T08:13:51.002267Z",
     "shell.execute_reply": "2024-11-09T08:13:51.000494Z",
     "shell.execute_reply.started": "2024-11-09T08:13:50.991417Z"
    }
   },
   "outputs": [],
   "source": [
    "\n",
    "# Brands and indices\n",
    "brands = ['Dunlop', 'Modi', 'Ceat', 'GoodYear', 'MRF']\n",
    "brand_indices = {brand: idx for idx, brand in enumerate(brands)}\n",
    "\n",
    "# Paired comparison data: (i, j, n_ij, n_ji)\n",
    "data = [\n",
    "    (0, 1, 80, 20),  # Dunlop vs Modi\n",
    "    (0, 2, 59, 41),  # Dunlop vs Ceat\n",
    "    (0, 3, 52, 48),  # Dunlop vs GoodYear\n",
    "    (0, 4, 77, 23),  # Dunlop vs MRF\n",
    "    (1, 2, 60, 40),  # Modi vs Ceat\n",
    "    (1, 3, 46, 54),  # Modi vs GoodYear\n",
    "    (1, 4, 56, 44),  # Modi vs MRF\n",
    "    (2, 3, 61, 39),  # Ceat vs GoodYear\n",
    "    (2, 4, 60, 40),  # Ceat vs MRF\n",
    "    (3, 4, 67, 33)   # GoodYear vs MRF\n",
    "]\n",
    "\n",
    "def neg_log_likelihood(log_pis):\n",
    "    # log_pis is an array of length 4 (log_p0 to log_p3)\n",
    "    # log_p4 is fixed at 0\n",
    "    log_pis_full = np.append(log_pis, 0)  # Append log_p4 = 0\n",
    "    LL = 0\n",
    "    for i, j, n_ij, n_ji in data:\n",
    "        log_pi = log_pis_full[i]\n",
    "        log_pj = log_pis_full[j]\n",
    "        max_log_pi_pj = max(log_pi, log_pj)\n",
    "        # Compute log_sum_exp(log_pi, log_pj) in a numerically stable way\n",
    "        log_sum_ij = max_log_pi_pj + np.log( np.exp(log_pi - max_log_pi_pj) + np.exp(log_pj - max_log_pi_pj) )\n",
    "        LL += n_ij * (log_pi - log_sum_ij) + n_ji * (log_pj - log_sum_ij)\n",
    "    return -LL  # Negative log-likelihood\n"
   ]
  },
  {
   "cell_type": "code",
   "execution_count": 3,
   "id": "68ca70ce-36f8-4e24-925b-0fec19ecda57",
   "metadata": {
    "execution": {
     "iopub.execute_input": "2024-11-09T08:13:54.959791Z",
     "iopub.status.busy": "2024-11-09T08:13:54.959179Z",
     "iopub.status.idle": "2024-11-09T08:13:55.028318Z",
     "shell.execute_reply": "2024-11-09T08:13:55.026156Z",
     "shell.execute_reply.started": "2024-11-09T08:13:54.959748Z"
    }
   },
   "outputs": [
    {
     "name": "stdout",
     "output_type": "stream",
     "text": [
      "Estimated Ability Scores:\n",
      "Dunlop: 0.3335\n",
      "Modi: 0.1618\n",
      "Ceat: 0.1908\n",
      "GoodYear: 0.2005\n",
      "MRF: 0.1134\n"
     ]
    }
   ],
   "source": [
    "# Initial guesses for log_p0 to log_p3\n",
    "x0 = np.zeros(4)\n",
    "\n",
    "# Perform optimization\n",
    "result = minimize(neg_log_likelihood, x0, method='BFGS')\n",
    "\n",
    "if result.success:\n",
    "    log_pis_est = np.append(result.x, 0)  # Append log_p4 = 0\n",
    "    pis_est = np.exp(log_pis_est)\n",
    "    pis_est_normalized = pis_est / np.sum(pis_est)\n",
    "    print(\"Estimated Ability Scores:\")\n",
    "    for idx, brand in enumerate(brands):\n",
    "        print(f\"{brand}: {pis_est_normalized[idx]:.4f}\")\n",
    "else:\n",
    "    print(\"Optimization failed:\", result.message)"
   ]
  },
  {
   "cell_type": "code",
   "execution_count": null,
   "id": "d1700025-4778-40eb-8b6c-4f307bc22e32",
   "metadata": {},
   "outputs": [],
   "source": []
  }
 ],
 "metadata": {
  "kernelspec": {
   "display_name": "Python 3 (ipykernel)",
   "language": "python",
   "name": "python3"
  },
  "language_info": {
   "codemirror_mode": {
    "name": "ipython",
    "version": 3
   },
   "file_extension": ".py",
   "mimetype": "text/x-python",
   "name": "python",
   "nbconvert_exporter": "python",
   "pygments_lexer": "ipython3",
   "version": "3.10.13"
  }
 },
 "nbformat": 4,
 "nbformat_minor": 5
}
