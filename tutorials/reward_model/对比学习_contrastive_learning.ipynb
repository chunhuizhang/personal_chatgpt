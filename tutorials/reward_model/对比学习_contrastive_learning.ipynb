{
 "cells": [
  {
   "cell_type": "markdown",
   "id": "65cb11f2",
   "metadata": {},
   "source": [
    "- https://lilianweng.github.io/posts/2021-05-31-contrastive/\n",
    "- siamese-triplet\n",
    "    - https://github.com/adambielski/siamese-triplet/tree/master\n",
    "- contrastive-image-text\n",
    "    - CLIP：https://github.com/huggingface/transformers/tree/main/examples/pytorch/contrastive-image-text"
   ]
  },
  {
   "cell_type": "markdown",
   "id": "e0083f42-32c4-4466-887c-7a4f51729825",
   "metadata": {},
   "source": [
    "### constrastive learning & metric learning "
   ]
  },
  {
   "cell_type": "markdown",
   "id": "c955783d-6ac2-4f13-b967-8e609897ad95",
   "metadata": {},
   "source": [
    "- constrastive learning\n",
    "    - 一种通过对样本对进行比较来学习有用表征的方法。目标是使相似样本的表示更接近，不相似样本的表示更远离。\n",
    "    - 相似不相似，更多是类别上的；\n",
    "- metric learning or embedding learning\n",
    "    - embedding learning：学习的是表示；\n",
    "        - 传统对比学习主要关注学习数据的表示（embedding），使得相似样本的表示更接近，以便在下游任务中使用。\n",
    "- learning to rank（learning from preference）\n",
    "    - 从类别到偏序\n",
    "- 数据集（样本对，正例、负例，或者偏序对）的构造，以及损失函数的设计；"
   ]
  },
  {
   "cell_type": "markdown",
   "id": "8888c5c1",
   "metadata": {},
   "source": [
    "## constrastive loss"
   ]
  },
  {
   "cell_type": "markdown",
   "id": "14215a98",
   "metadata": {},
   "source": [
    "### (pairwise) Margin Ranking loss"
   ]
  },
  {
   "cell_type": "markdown",
   "id": "35a491c4",
   "metadata": {},
   "source": [
    "$$\n",
    "L(y_w,y_l)=\\max(0, \\delta-(R(y_w) - R(y_l))\n",
    "$$\n",
    "\n",
    "- 也就是说，目标追求的是 $R(y_w)-R(y_l)\\geq \\delta$ 时，loss 才为0；\n",
    "\n",
    "    $$\n",
    "    R(y_w)-R(y_l)\\geq \\delta\\\\\n",
    "    R(y_w)\\geq R(y_l)+\\delta\n",
    "    $$\n",
    "    \n",
    "    - Reward model 对 $y_w$ 的打分要比对 $y_l$ 的打分 + $\\delta$ 还多；"
   ]
  }
 ],
 "metadata": {
  "kernelspec": {
   "display_name": "Python 3 (ipykernel)",
   "language": "python",
   "name": "python3"
  },
  "language_info": {
   "codemirror_mode": {
    "name": "ipython",
    "version": 3
   },
   "file_extension": ".py",
   "mimetype": "text/x-python",
   "name": "python",
   "nbconvert_exporter": "python",
   "pygments_lexer": "ipython3",
   "version": "3.10.13"
  },
  "toc": {
   "base_numbering": 1,
   "nav_menu": {},
   "number_sections": true,
   "sideBar": true,
   "skip_h1_title": false,
   "title_cell": "Table of Contents",
   "title_sidebar": "Contents",
   "toc_cell": false,
   "toc_position": {},
   "toc_section_display": true,
   "toc_window_display": false
  }
 },
 "nbformat": 4,
 "nbformat_minor": 5
}
