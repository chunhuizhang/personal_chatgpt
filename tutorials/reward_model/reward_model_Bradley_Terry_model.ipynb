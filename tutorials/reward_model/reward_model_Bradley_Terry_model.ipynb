{
 "cells": [
  {
   "cell_type": "markdown",
   "id": "a6375b93-0a5c-481f-be9f-55648ff5353d",
   "metadata": {},
   "source": [
    "- references\n",
    "    - https://en.wikipedia.org/wiki/Bradley%E2%80%93Terry_model\n",
    "    - InstructGPT: https://openai.com/index/instruction-following/"
   ]
  },
  {
   "cell_type": "code",
   "execution_count": 1,
   "id": "256e7b94-3d01-4e07-9f29-015a9e527d50",
   "metadata": {
    "execution": {
     "iopub.execute_input": "2024-11-03T02:52:33.202140Z",
     "iopub.status.busy": "2024-11-03T02:52:33.201524Z",
     "iopub.status.idle": "2024-11-03T02:52:33.220181Z",
     "shell.execute_reply": "2024-11-03T02:52:33.218404Z",
     "shell.execute_reply.started": "2024-11-03T02:52:33.202080Z"
    }
   },
   "outputs": [],
   "source": [
    "from IPython.display import Image"
   ]
  },
  {
   "cell_type": "markdown",
   "id": "d5eab32d-6538-4263-9f7e-8988f2e901fc",
   "metadata": {},
   "source": [
    "### instructGPT"
   ]
  },
  {
   "cell_type": "code",
   "execution_count": 4,
   "id": "43d9e708-2b8f-4667-a5f1-672806d7439b",
   "metadata": {
    "execution": {
     "iopub.execute_input": "2024-11-03T02:53:44.776386Z",
     "iopub.status.busy": "2024-11-03T02:53:44.775759Z",
     "iopub.status.idle": "2024-11-03T02:53:44.788804Z",
     "shell.execute_reply": "2024-11-03T02:53:44.786563Z",
     "shell.execute_reply.started": "2024-11-03T02:53:44.776340Z"
    }
   },
   "outputs": [
    {
     "data": {
      "text/html": [
       "<img src=\"https://images.ctfassets.net/kftzwdyauwt9/690sZjaYwbes9IMEgfyJ7O/f536896b496b13749518f53d4caaa713/Methods_Diagram_dark_mode.jpg?w=2048&q=80&fm=webp\" width=\"600\"/>"
      ],
      "text/plain": [
       "<IPython.core.display.Image object>"
      ]
     },
     "execution_count": 4,
     "metadata": {},
     "output_type": "execute_result"
    }
   ],
   "source": [
    "Image(url='https://images.ctfassets.net/kftzwdyauwt9/690sZjaYwbes9IMEgfyJ7O/f536896b496b13749518f53d4caaa713/Methods_Diagram_dark_mode.jpg?w=2048&q=80&fm=webp', width=600)"
   ]
  },
  {
   "cell_type": "markdown",
   "id": "5e9ba544-a5d5-4907-9376-e3c3209702a4",
   "metadata": {},
   "source": [
    "- D>C>A=B"
   ]
  },
  {
   "cell_type": "code",
   "execution_count": 5,
   "id": "6faf3560-86d3-44e2-8e9b-c2098418dfc9",
   "metadata": {
    "execution": {
     "iopub.execute_input": "2024-11-03T03:02:49.392764Z",
     "iopub.status.busy": "2024-11-03T03:02:49.392188Z",
     "iopub.status.idle": "2024-11-03T03:02:49.404474Z",
     "shell.execute_reply": "2024-11-03T03:02:49.402227Z",
     "shell.execute_reply.started": "2024-11-03T03:02:49.392718Z"
    }
   },
   "outputs": [
    {
     "data": {
      "text/html": [
       "<img src=\"./imgs/quality-labels.png\" width=\"500\"/>"
      ],
      "text/plain": [
       "<IPython.core.display.Image object>"
      ]
     },
     "execution_count": 5,
     "metadata": {},
     "output_type": "execute_result"
    }
   ],
   "source": [
    "Image(url='./imgs/quality-labels.png', width=500)"
   ]
  },
  {
   "cell_type": "markdown",
   "id": "41ae1a08-bae3-4a16-8a75-1428aa3355e6",
   "metadata": {},
   "source": [
    "- 单个的标注（监督学习，直接回归 rating），rating 未必是全局唯一的，\n",
    "    - labeler A 认为的 3分在 labeler 的 4分或者2分，即 rating 的 scale 未必对所有的 labelers 都是适用的；\n",
    "    - 李克特量表（Likert scale）\n",
    "- reward model\n",
    "    - 双输入，siamese network；"
   ]
  },
  {
   "cell_type": "markdown",
   "id": "05d51b0b-a666-43ed-8c73-f7ce5f6a43bc",
   "metadata": {},
   "source": [
    "### Bradley-Terry model"
   ]
  },
  {
   "cell_type": "code",
   "execution_count": 3,
   "id": "212efaee-a0d5-434e-b23e-10ce1f1b7c56",
   "metadata": {},
   "outputs": [
    {
     "data": {
      "text/html": [
       "<img src=\"https://substackcdn.com/image/fetch/f_auto,q_auto:good,fl_progressive:steep/https%3A%2F%2Fsubstack-post-media.s3.amazonaws.com%2Fpublic%2Fimages%2F0605ace1-cc21-400a-941f-154a1faa103c_1600x1427.png\" width=\"400\"/>"
      ],
      "text/plain": [
       "<IPython.core.display.Image object>"
      ]
     },
     "execution_count": 3,
     "metadata": {},
     "output_type": "execute_result"
    }
   ],
   "source": [
    "Image(url='https://substackcdn.com/image/fetch/f_auto,q_auto:good,fl_progressive:steep/https%3A%2F%2Fsubstack-post-media.s3.amazonaws.com%2Fpublic%2Fimages%2F0605ace1-cc21-400a-941f-154a1faa103c_1600x1427.png', width=400)"
   ]
  }
 ],
 "metadata": {
  "kernelspec": {
   "display_name": "Python 3 (ipykernel)",
   "language": "python",
   "name": "python3"
  },
  "language_info": {
   "codemirror_mode": {
    "name": "ipython",
    "version": 3
   },
   "file_extension": ".py",
   "mimetype": "text/x-python",
   "name": "python",
   "nbconvert_exporter": "python",
   "pygments_lexer": "ipython3",
   "version": "3.10.13"
  }
 },
 "nbformat": 4,
 "nbformat_minor": 5
}
