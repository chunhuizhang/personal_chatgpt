{
 "cells": [
  {
   "cell_type": "markdown",
   "id": "a6375b93-0a5c-481f-be9f-55648ff5353d",
   "metadata": {},
   "source": [
    "- references\n",
    "    - https://en.wikipedia.org/wiki/Bradley%E2%80%93Terry_model\n",
    "    - InstructGPT:\n",
    "        - https://openai.com/index/instruction-following/\n",
    "        - https://arxiv.org/abs/2203.02155"
   ]
  },
  {
   "cell_type": "code",
   "execution_count": 1,
   "id": "256e7b94-3d01-4e07-9f29-015a9e527d50",
   "metadata": {
    "execution": {
     "iopub.execute_input": "2024-11-09T08:33:11.171368Z",
     "iopub.status.busy": "2024-11-09T08:33:11.170789Z",
     "iopub.status.idle": "2024-11-09T08:33:11.181892Z",
     "shell.execute_reply": "2024-11-09T08:33:11.180854Z",
     "shell.execute_reply.started": "2024-11-09T08:33:11.171339Z"
    }
   },
   "outputs": [],
   "source": [
    "from IPython.display import Image"
   ]
  },
  {
   "cell_type": "code",
   "execution_count": 2,
   "id": "669cf78e-fe48-423c-b4ec-29e85f77603b",
   "metadata": {
    "execution": {
     "iopub.execute_input": "2024-11-09T08:33:11.183448Z",
     "iopub.status.busy": "2024-11-09T08:33:11.183116Z",
     "iopub.status.idle": "2024-11-09T08:33:12.985861Z",
     "shell.execute_reply": "2024-11-09T08:33:12.985029Z",
     "shell.execute_reply.started": "2024-11-09T08:33:11.183421Z"
    }
   },
   "outputs": [],
   "source": [
    "import torch\n",
    "from torch import nn\n",
    "import torch.nn.functional as F\n",
    "import numpy as np\n",
    "import matplotlib.pyplot as plt"
   ]
  },
  {
   "cell_type": "markdown",
   "id": "d5eab32d-6538-4263-9f7e-8988f2e901fc",
   "metadata": {},
   "source": [
    "### instructGPT"
   ]
  },
  {
   "cell_type": "code",
   "execution_count": 3,
   "id": "b34b629d-04cf-4d6c-9e23-251301f8b05c",
   "metadata": {
    "execution": {
     "iopub.execute_input": "2024-11-09T08:33:12.986485Z",
     "iopub.status.busy": "2024-11-09T08:33:12.986318Z",
     "iopub.status.idle": "2024-11-09T08:33:12.993566Z",
     "shell.execute_reply": "2024-11-09T08:33:12.992829Z",
     "shell.execute_reply.started": "2024-11-09T08:33:12.986474Z"
    }
   },
   "outputs": [
    {
     "data": {
      "text/html": [
       "<img src=\"https://miro.medium.com/v2/resize:fit:1100/format:webp/1*R8D4ixMVWxSOyvvIoc_T-w.png\" width=\"500\"/>"
      ],
      "text/plain": [
       "<IPython.core.display.Image object>"
      ]
     },
     "execution_count": 3,
     "metadata": {},
     "output_type": "execute_result"
    }
   ],
   "source": [
    "Image(url='https://miro.medium.com/v2/resize:fit:1100/format:webp/1*R8D4ixMVWxSOyvvIoc_T-w.png', width=500)"
   ]
  },
  {
   "cell_type": "markdown",
   "id": "1027187e-c8b3-4fed-bd9d-da865c44088f",
   "metadata": {},
   "source": [
    "$$\n",
    "\\text{loss}(\\theta) = -\\frac{1}{\\binom{K}{2}} \\mathbb{E}_{(x, y_w, y_l) \\sim D} \\left[ \\log \\left( \\sigma \\left( r_\\theta(x, y_w) - r_\\theta(x, y_l) \\right) \\right) \\right]\n",
    "$$"
   ]
  },
  {
   "cell_type": "code",
   "execution_count": 4,
   "id": "43d9e708-2b8f-4667-a5f1-672806d7439b",
   "metadata": {
    "execution": {
     "iopub.execute_input": "2024-11-09T08:33:12.994201Z",
     "iopub.status.busy": "2024-11-09T08:33:12.994075Z",
     "iopub.status.idle": "2024-11-09T08:33:13.002872Z",
     "shell.execute_reply": "2024-11-09T08:33:13.002128Z",
     "shell.execute_reply.started": "2024-11-09T08:33:12.994190Z"
    }
   },
   "outputs": [
    {
     "data": {
      "text/html": [
       "<img src=\"https://images.ctfassets.net/kftzwdyauwt9/690sZjaYwbes9IMEgfyJ7O/f536896b496b13749518f53d4caaa713/Methods_Diagram_dark_mode.jpg?w=2048&q=80&fm=webp\" width=\"600\"/>"
      ],
      "text/plain": [
       "<IPython.core.display.Image object>"
      ]
     },
     "execution_count": 4,
     "metadata": {},
     "output_type": "execute_result"
    }
   ],
   "source": [
    "Image(url='https://images.ctfassets.net/kftzwdyauwt9/690sZjaYwbes9IMEgfyJ7O/f536896b496b13749518f53d4caaa713/Methods_Diagram_dark_mode.jpg?w=2048&q=80&fm=webp', width=600)"
   ]
  },
  {
   "cell_type": "markdown",
   "id": "5e9ba544-a5d5-4907-9376-e3c3209702a4",
   "metadata": {},
   "source": [
    "- D>C>A=B"
   ]
  },
  {
   "cell_type": "code",
   "execution_count": 5,
   "id": "6faf3560-86d3-44e2-8e9b-c2098418dfc9",
   "metadata": {
    "execution": {
     "iopub.execute_input": "2024-11-09T08:33:13.003494Z",
     "iopub.status.busy": "2024-11-09T08:33:13.003370Z",
     "iopub.status.idle": "2024-11-09T08:33:13.015923Z",
     "shell.execute_reply": "2024-11-09T08:33:13.014880Z",
     "shell.execute_reply.started": "2024-11-09T08:33:13.003484Z"
    }
   },
   "outputs": [
    {
     "data": {
      "text/html": [
       "<img src=\"./imgs/quality-labels.png\" width=\"500\"/>"
      ],
      "text/plain": [
       "<IPython.core.display.Image object>"
      ]
     },
     "execution_count": 5,
     "metadata": {},
     "output_type": "execute_result"
    }
   ],
   "source": [
    "Image(url='./imgs/quality-labels.png', width=500)"
   ]
  },
  {
   "cell_type": "markdown",
   "id": "41ae1a08-bae3-4a16-8a75-1428aa3355e6",
   "metadata": {},
   "source": [
    "- 单个的标注（监督学习，直接回归 rating），rating 未必是全局唯一的，\n",
    "    - labeler A 认为的 3分在 labeler B 的 4分或者2分，即 rating 的 scale 未必对所有的 labelers 都是适用的；\n",
    "    - 李克特量表（Likert scale）\n",
    "- reward model\n",
    "    - 双输入，siamese network；"
   ]
  },
  {
   "cell_type": "markdown",
   "id": "20ac7a5d-8871-45d0-9c05-2847c6928ea1",
   "metadata": {},
   "source": [
    "#### 损失函数的理解"
   ]
  },
  {
   "cell_type": "markdown",
   "id": "0885af17-12f7-4415-a184-42c81b915191",
   "metadata": {},
   "source": [
    "#### 概率建模"
   ]
  },
  {
   "cell_type": "markdown",
   "id": "cc8d4f47-f53e-45b8-82cb-7a3a0da1942c",
   "metadata": {},
   "source": [
    "$$\n",
    "\\begin{split}\n",
    "\\delta=r_w-r_l&=\\log {odds}=\\log \\frac{p}{1-p}\\\\\n",
    "&\\Downarrow\\\\\n",
    "p&=\\frac{1}{1+\\exp(-\\delta)}=\\sigma(\\delta)\\\\\n",
    "&\\Downarrow\\\\\n",
    "&-\\log p=-\\log\\sigma(\\delta)\n",
    "\\end{split}\n",
    "$$"
   ]
  },
  {
   "cell_type": "markdown",
   "id": "1d8493b3-b0fe-44a5-aabf-0cfa50dd3876",
   "metadata": {},
   "source": [
    "- log odds（对数赔率，赔率的对数）：$r_w-r_l=\\log odds$\n",
    "    - $p=p(y_w\\gt y_l)$\n",
    "    - 奖励差，表示人类更可能偏好响应1（$r_w$，$r_\\text{chosen}$）而非响应2（$r_\\ell$，$r_\\text{rejected}$）的对数赔率。\n",
    "- They use a cross-entropy loss, with the comparisons as labels—the difference in rewards represents the log odds that one response will be preferred to the other by a human labeler\n",
    "    - 我们已经假定人类标注者更偏好响应1，设定真实标签 $y=1$；（如果人类更偏好响应2，设定 $y=0$）\n",
    "    - 则交叉熵损失为 $-[y\\log P+(1-y)\\log (1-P)] = -\\log P$\n",
    "- 多数时候我们看到 log probability 的时候基本就是在计算交叉熵；"
   ]
  },
  {
   "cell_type": "code",
   "execution_count": 6,
   "id": "17684ec2-313c-4ea1-b5d3-57ce9f44a2e4",
   "metadata": {
    "execution": {
     "iopub.execute_input": "2024-11-09T08:33:13.017413Z",
     "iopub.status.busy": "2024-11-09T08:33:13.017252Z",
     "iopub.status.idle": "2024-11-09T08:33:13.147786Z",
     "shell.execute_reply": "2024-11-09T08:33:13.147043Z",
     "shell.execute_reply.started": "2024-11-09T08:33:13.017400Z"
    }
   },
   "outputs": [
    {
     "data": {
      "image/png": "[encoded data removed]",
      "text/plain": [
       "<Figure size 400x300 with 1 Axes>"
      ]
     },
     "metadata": {},
     "output_type": "display_data"
    }
   ],
   "source": [
    "p = np.linspace(0.01, 0.99, 100)\n",
    "log_odds = np.log(p / (1 - p))  # Calculate log odds\n",
    "\n",
    "# Plotting the log odds curve\n",
    "plt.figure(figsize=(4, 3))\n",
    "plt.plot(p, log_odds)\n",
    "plt.xlabel('Probability (p)')\n",
    "plt.ylabel('Log Odds')\n",
    "plt.title('Log Odds Curve')\n",
    "plt.grid(True)"
   ]
  },
  {
   "cell_type": "markdown",
   "id": "aa9bb545-f082-4eec-953c-97d09e3d72aa",
   "metadata": {},
   "source": [
    "### multiple responses"
   ]
  },
  {
   "cell_type": "markdown",
   "id": "56625dd9-38ec-4591-b30a-b9ec767cb0f8",
   "metadata": {},
   "source": [
    "$$\n",
    "k=9\n",
    "$$\n",
    "- 可以很大的膨胀数据集的规模\n",
    "    - batch size 64，k = 9\n",
    "    - $\\leq 64 \\cdot \\binom{9}{2}=2304$\n",
    "- 这里取K=9，是考虑到人工标注的时候，很大一部分时间是花在读懂这个prompt。而读懂prompt和一两个答案之后，其它答案就理解的很快了。所以排序9个比排序4个所花的时间并不是增加了一倍。而且 $C_9^2=36,C_4^2=6$，等于额外开销不到一倍，而标注的数据多了6倍。\n",
    "- 另外之前的工作不仅是 K=4 ，而且在标注的时候只标注最好的一个 ，这样就是4选1，这样只需要最大化最优答案的分数就行，所以容易过拟合。而这里采用的是 \n",
    " $C_k^2$ 个排序对，使得整个问题变得复杂一点，缓解了过拟合"
   ]
  },
  {
   "cell_type": "code",
   "execution_count": 7,
   "id": "8482f53e-37db-4476-8962-bf1b3859b3bc",
   "metadata": {
    "execution": {
     "iopub.execute_input": "2024-11-09T08:33:13.148299Z",
     "iopub.status.busy": "2024-11-09T08:33:13.148172Z",
     "iopub.status.idle": "2024-11-09T08:33:13.153248Z",
     "shell.execute_reply": "2024-11-09T08:33:13.152537Z",
     "shell.execute_reply.started": "2024-11-09T08:33:13.148282Z"
    }
   },
   "outputs": [
    {
     "data": {
      "text/plain": [
       "2304"
      ]
     },
     "execution_count": 7,
     "metadata": {},
     "output_type": "execute_result"
    }
   ],
   "source": [
    "import math\n",
    "64 * math.comb(9, 2)"
   ]
  },
  {
   "cell_type": "markdown",
   "id": "05d51b0b-a666-43ed-8c73-f7ce5f6a43bc",
   "metadata": {},
   "source": [
    "### Bradley-Terry model"
   ]
  },
  {
   "cell_type": "code",
   "execution_count": 8,
   "id": "212efaee-a0d5-434e-b23e-10ce1f1b7c56",
   "metadata": {
    "execution": {
     "iopub.execute_input": "2024-11-09T08:33:13.153934Z",
     "iopub.status.busy": "2024-11-09T08:33:13.153814Z",
     "iopub.status.idle": "2024-11-09T08:33:13.163092Z",
     "shell.execute_reply": "2024-11-09T08:33:13.162388Z",
     "shell.execute_reply.started": "2024-11-09T08:33:13.153924Z"
    },
    "scrolled": true
   },
   "outputs": [
    {
     "data": {
      "text/html": [
       "<img src=\"https://substackcdn.com/image/fetch/f_auto,q_auto:good,fl_progressive:steep/https%3A%2F%2Fsubstack-post-media.s3.amazonaws.com%2Fpublic%2Fimages%2F0605ace1-cc21-400a-941f-154a1faa103c_1600x1427.png\" width=\"400\"/>"
      ],
      "text/plain": [
       "<IPython.core.display.Image object>"
      ]
     },
     "execution_count": 8,
     "metadata": {},
     "output_type": "execute_result"
    }
   ],
   "source": [
    "Image(url='https://substackcdn.com/image/fetch/f_auto,q_auto:good,fl_progressive:steep/https%3A%2F%2Fsubstack-post-media.s3.amazonaws.com%2Fpublic%2Fimages%2F0605ace1-cc21-400a-941f-154a1faa103c_1600x1427.png', width=400)"
   ]
  },
  {
   "cell_type": "markdown",
   "id": "308377cc-49ea-4ca2-a000-8212936b3bc2",
   "metadata": {},
   "source": [
    "#### gradient of loss"
   ]
  },
  {
   "cell_type": "markdown",
   "id": "c7b05f07-1fd9-414f-8989-76c141f75d10",
   "metadata": {},
   "source": [
    "$$\n",
    "\\begin{split}\n",
    "&\\ell=-\\log\\sigma(\\delta)\\\\\n",
    "&\\ell'=\\sigma(\\delta)-1\n",
    "\\end{split}\n",
    "$$\n",
    "\n",
    "- loss is proportional to the log odds that the first resp is greater than the second;"
   ]
  },
  {
   "cell_type": "code",
   "execution_count": 9,
   "id": "8e07fb9c-0cd9-4fb0-9d6a-d0d937e51abe",
   "metadata": {
    "execution": {
     "iopub.execute_input": "2024-11-09T08:33:13.163574Z",
     "iopub.status.busy": "2024-11-09T08:33:13.163457Z",
     "iopub.status.idle": "2024-11-09T08:33:13.190406Z",
     "shell.execute_reply": "2024-11-09T08:33:13.189598Z",
     "shell.execute_reply.started": "2024-11-09T08:33:13.163565Z"
    }
   },
   "outputs": [
    {
     "data": {
      "text/plain": [
       "(tensor(0.6931), 0.3010299956639812)"
      ]
     },
     "execution_count": 9,
     "metadata": {},
     "output_type": "execute_result"
    }
   ],
   "source": [
    "# `r1=r2` 时的 loss\n",
    "-F.logsigmoid(torch.tensor(0.)), -np.log10(1/(1+np.exp(-0)))"
   ]
  },
  {
   "cell_type": "code",
   "execution_count": 10,
   "id": "5b55191a-8157-4850-a6ed-e9a6c5a54fb2",
   "metadata": {
    "execution": {
     "iopub.execute_input": "2024-11-09T08:33:13.191216Z",
     "iopub.status.busy": "2024-11-09T08:33:13.191048Z",
     "iopub.status.idle": "2024-11-09T08:33:13.399783Z",
     "shell.execute_reply": "2024-11-09T08:33:13.399039Z",
     "shell.execute_reply.started": "2024-11-09T08:33:13.191202Z"
    }
   },
   "outputs": [
    {
     "data": {
      "image/png": "[encoded data removed]",
      "text/plain": [
       "<Figure size 500x300 with 1 Axes>"
      ]
     },
     "metadata": {},
     "output_type": "display_data"
    }
   ],
   "source": [
    "import numpy as np\n",
    "import matplotlib.pyplot as plt\n",
    "\n",
    "# Define the delta range\n",
    "delta = np.linspace(-10, 10, 1000)\n",
    "\n",
    "# Define the function -log(sigma(delta)) and its gradient\n",
    "sigma = 1 / (1 + np.exp(-delta))\n",
    "neg_log_sigma = -np.log(sigma)\n",
    "grad_neg_log_sigma = sigma-1  # derivative of -log(sigma(delta)) with respect to delta\n",
    "\n",
    "# Plotting\n",
    "plt.figure(figsize=(5, 3))\n",
    "plt.plot(delta, neg_log_sigma, label='$-\\log(\\sigma(\\delta))$', color='blue')\n",
    "plt.plot(delta, grad_neg_log_sigma, label=\"Gradient of $-\\log(\\sigma(\\delta))$\", color='red', linestyle='--')\n",
    "\n",
    "plt.axhline(0, color='black', linewidth=0.5, linestyle=':')\n",
    "plt.axvline(0, color='black', linewidth=0.5, linestyle=':')\n",
    "\n",
    "plt.title('Plot of $-log(\\sigma(\\delta))$ and its Gradient')\n",
    "plt.xlabel('delta')\n",
    "plt.ylabel('Function Value / Gradient')\n",
    "plt.legend()\n",
    "plt.grid(True)\n",
    "plt.show()"
   ]
  },
  {
   "cell_type": "markdown",
   "id": "9f9b2811-9182-497f-b449-57f527d5c8e5",
   "metadata": {},
   "source": [
    "- $\\delta=r_1-r_2\\geq 3$ 以后 loss 接近于0，且基本没有梯度了，；"
   ]
  },
  {
   "cell_type": "code",
   "execution_count": 16,
   "id": "3fc21620-0b47-44ac-a83b-233b032cc659",
   "metadata": {
    "execution": {
     "iopub.execute_input": "2024-11-09T08:34:56.097567Z",
     "iopub.status.busy": "2024-11-09T08:34:56.096923Z",
     "iopub.status.idle": "2024-11-09T08:34:56.111753Z",
     "shell.execute_reply": "2024-11-09T08:34:56.109845Z",
     "shell.execute_reply.started": "2024-11-09T08:34:56.097519Z"
    }
   },
   "outputs": [
    {
     "data": {
      "text/plain": [
       "(0.3132616875182228, 0.0485873515737419, 6.00247568513773)"
      ]
     },
     "execution_count": 16,
     "metadata": {},
     "output_type": "execute_result"
    }
   ],
   "source": [
    "-np.log(1/(1+np.exp(-1))), -np.log(1/(1+np.exp(-3))), -np.log(1/(1+np.exp(-(-6))))"
   ]
  },
  {
   "cell_type": "code",
   "execution_count": 15,
   "id": "871668f2-2511-4e20-a437-44a2d581cfb8",
   "metadata": {
    "execution": {
     "iopub.execute_input": "2024-11-09T08:34:27.069756Z",
     "iopub.status.busy": "2024-11-09T08:34:27.069112Z",
     "iopub.status.idle": "2024-11-09T08:34:27.081626Z",
     "shell.execute_reply": "2024-11-09T08:34:27.079369Z",
     "shell.execute_reply.started": "2024-11-09T08:34:27.069710Z"
    }
   },
   "outputs": [
    {
     "data": {
      "text/plain": [
       "0.0024726231566347743"
      ]
     },
     "execution_count": 15,
     "metadata": {},
     "output_type": "execute_result"
    }
   ],
   "source": [
    "1/(1+np.exp(-(-6)))"
   ]
  }
 ],
 "metadata": {
  "kernelspec": {
   "display_name": "Python 3 (ipykernel)",
   "language": "python",
   "name": "python3"
  },
  "language_info": {
   "codemirror_mode": {
    "name": "ipython",
    "version": 3
   },
   "file_extension": ".py",
   "mimetype": "text/x-python",
   "name": "python",
   "nbconvert_exporter": "python",
   "pygments_lexer": "ipython3",
   "version": "3.10.13"
  }
 },
 "nbformat": 4,
 "nbformat_minor": 5
}
