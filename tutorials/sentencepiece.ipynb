{
 "cells": [
  {
   "cell_type": "markdown",
   "id": "3866028e",
   "metadata": {},
   "source": [
    "## basics"
   ]
  },
  {
   "cell_type": "markdown",
   "id": "8b706492",
   "metadata": {},
   "source": []
  },
  {
   "cell_type": "markdown",
   "id": "c3115baa",
   "metadata": {},
   "source": [
    "## 加载 tokenizer"
   ]
  },
  {
   "cell_type": "markdown",
   "id": "e9d3d172",
   "metadata": {},
   "source": [
    "```\n",
    "from sentencepiece import SentencePieceProcessor\n",
    "sp_model = SentencePieceProcessor(model_file='weights/tokenizer.model')\n",
    "\n",
    "n_words: int = sp_model.vocab_size()\n",
    "bos_id: int = sp_model.bos_id()\n",
    "eos_id: int = sp_model.eos_id()\n",
    "pad_id: int = sp_model.pad_id()\n",
    "\n",
    "assert sp_model.vocab_size() == sp_model.get_piece_size()\n",
    "\n",
    "\n",
    "assert type(s) is str\n",
    "t = sp_model.encode(s)\n",
    "\n",
    "sp_model.decode(t)\n",
    "```\n"
   ]
  }
 ],
 "metadata": {
  "kernelspec": {
   "display_name": "Python 3 (ipykernel)",
   "language": "python",
   "name": "python3"
  },
  "language_info": {
   "codemirror_mode": {
    "name": "ipython",
    "version": 3
   },
   "file_extension": ".py",
   "mimetype": "text/x-python",
   "name": "python",
   "nbconvert_exporter": "python",
   "pygments_lexer": "ipython3",
   "version": "3.10.13"
  },
  "toc": {
   "base_numbering": 1,
   "nav_menu": {},
   "number_sections": true,
   "sideBar": true,
   "skip_h1_title": false,
   "title_cell": "Table of Contents",
   "title_sidebar": "Contents",
   "toc_cell": false,
   "toc_position": {},
   "toc_section_display": true,
   "toc_window_display": false
  }
 },
 "nbformat": 4,
 "nbformat_minor": 5
}
