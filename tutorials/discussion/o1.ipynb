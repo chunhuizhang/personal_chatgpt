{
 "cells": [
  {
   "cell_type": "code",
   "execution_count": 1,
   "id": "4403261e-9355-4dc7-b38c-46749e06a129",
   "metadata": {
    "execution": {
     "iopub.execute_input": "2024-09-21T11:14:31.541249Z",
     "iopub.status.busy": "2024-09-21T11:14:31.539885Z",
     "iopub.status.idle": "2024-09-21T11:14:31.547739Z",
     "shell.execute_reply": "2024-09-21T11:14:31.546453Z",
     "shell.execute_reply.started": "2024-09-21T11:14:31.541200Z"
    }
   },
   "outputs": [],
   "source": [
    "from IPython.display import Image"
   ]
  },
  {
   "cell_type": "markdown",
   "id": "6e49045d-2321-4fc1-a9fb-c84bbfe28c09",
   "metadata": {},
   "source": [
    "### reasoning tokens"
   ]
  },
  {
   "cell_type": "markdown",
   "id": "d4e6f671-8337-46b2-9de6-b24149a0b9f4",
   "metadata": {},
   "source": [
    "- https://platform.openai.com/docs/guides/reasoning/how-reasoning-works"
   ]
  },
  {
   "cell_type": "code",
   "execution_count": 2,
   "id": "7d3b260b-5a03-4ab0-b25e-68d1897aa597",
   "metadata": {
    "execution": {
     "iopub.execute_input": "2024-09-21T11:14:56.510545Z",
     "iopub.status.busy": "2024-09-21T11:14:56.510149Z",
     "iopub.status.idle": "2024-09-21T11:14:56.524221Z",
     "shell.execute_reply": "2024-09-21T11:14:56.522245Z",
     "shell.execute_reply.started": "2024-09-21T11:14:56.510517Z"
    }
   },
   "outputs": [
    {
     "data": {
      "text/html": [
       "<img src=\"https://cdn.openai.com/API/images/guides/reasoning_tokens.png\" width=\"500\"/>"
      ],
      "text/plain": [
       "<IPython.core.display.Image object>"
      ]
     },
     "execution_count": 2,
     "metadata": {},
     "output_type": "execute_result"
    }
   ],
   "source": [
    "Image(url='https://cdn.openai.com/API/images/guides/reasoning_tokens.png', width=500)"
   ]
  },
  {
   "cell_type": "markdown",
   "id": "d20d1d86-8964-4a72-a3fb-491ea144ecfc",
   "metadata": {},
   "source": [
    "### PRM（Process-based Reward Model）"
   ]
  },
  {
   "cell_type": "markdown",
   "id": "944e00f2-a945-4335-92c2-d7bcd176e831",
   "metadata": {},
   "source": [
    "### learning & **searching**"
   ]
  },
  {
   "cell_type": "markdown",
   "id": "d8df3585-0a42-4250-bd96-3758fed1335e",
   "metadata": {},
   "source": [
    "https://medium.com/@haberlah/beyond-model-size-the-future-of-llm-optimisation-af7564daff29"
   ]
  },
  {
   "cell_type": "code",
   "execution_count": 4,
   "id": "15fa2970-7fcd-4155-825a-eebab156ff73",
   "metadata": {
    "execution": {
     "iopub.execute_input": "2024-09-21T11:39:43.464051Z",
     "iopub.status.busy": "2024-09-21T11:39:43.463450Z",
     "iopub.status.idle": "2024-09-21T11:39:43.476677Z",
     "shell.execute_reply": "2024-09-21T11:39:43.474562Z",
     "shell.execute_reply.started": "2024-09-21T11:39:43.464007Z"
    }
   },
   "outputs": [
    {
     "data": {
      "text/html": [
       "<img src=\"./imgs/search_methods.png\" width=\"500\"/>"
      ],
      "text/plain": [
       "<IPython.core.display.Image object>"
      ]
     },
     "execution_count": 4,
     "metadata": {},
     "output_type": "execute_result"
    }
   ],
   "source": [
    "Image(url='./imgs/search_methods.png', width=500)"
   ]
  },
  {
   "cell_type": "markdown",
   "id": "ebd61dff-0a7e-428b-bc7d-2b4713ea15cf",
   "metadata": {},
   "source": [
    "#### best of N"
   ]
  },
  {
   "cell_type": "markdown",
   "id": "ad54acee-a817-4147-8e1f-05b2b22c052c",
   "metadata": {},
   "source": [
    "$$\n",
    "P(best) = 1 - (1 - p)^N\n",
    "$$\n",
    "\n",
    "- ‘p’ is the probability of generating a correct response in a single attempt\n",
    "- ’N’ is the number of independent responses generated"
   ]
  },
  {
   "cell_type": "markdown",
   "id": "e9cac9c4-2b98-40fc-b9d5-4747e0955d64",
   "metadata": {
    "execution": {
     "iopub.execute_input": "2024-09-21T11:29:20.320573Z",
     "iopub.status.busy": "2024-09-21T11:29:20.319948Z",
     "iopub.status.idle": "2024-09-21T11:29:20.332230Z",
     "shell.execute_reply": "2024-09-21T11:29:20.330105Z",
     "shell.execute_reply.started": "2024-09-21T11:29:20.320529Z"
    }
   },
   "source": [
    "```\n",
    "def best_of_n_rag(query, n=5):\n",
    "    documents = retrieve_top_n_documents(query, n)\n",
    "    responses = []\n",
    "    for doc in documents:\n",
    "        prompt = f\"Given the context: {doc}\\nAnswer the query: {query}\"\n",
    "        responses.append(generate_response(prompt))\n",
    "    return select_best_response(responses)\n",
    "```"
   ]
  },
  {
   "cell_type": "markdown",
   "id": "007f4440-09cb-4413-91e2-1d4860c3917f",
   "metadata": {},
   "source": [
    "### 推理时计算"
   ]
  },
  {
   "cell_type": "markdown",
   "id": "b418e2c1-37e6-4d09-a55a-388efbf27956",
   "metadata": {},
   "source": [
    "- Test-Time Compute\n",
    "    - https://arxiv.org/pdf/2408.03314"
   ]
  }
 ],
 "metadata": {
  "kernelspec": {
   "display_name": "Python 3 (ipykernel)",
   "language": "python",
   "name": "python3"
  },
  "language_info": {
   "codemirror_mode": {
    "name": "ipython",
    "version": 3
   },
   "file_extension": ".py",
   "mimetype": "text/x-python",
   "name": "python",
   "nbconvert_exporter": "python",
   "pygments_lexer": "ipython3",
   "version": "3.10.13"
  }
 },
 "nbformat": 4,
 "nbformat_minor": 5
}
