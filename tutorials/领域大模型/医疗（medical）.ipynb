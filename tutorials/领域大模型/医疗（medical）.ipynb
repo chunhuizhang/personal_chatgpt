{
 "cells": [
  {
   "cell_type": "code",
   "execution_count": 1,
   "id": "7ff002c8",
   "metadata": {
    "ExecuteTime": {
     "end_time": "2023-08-19T11:10:12.367051Z",
     "start_time": "2023-08-19T11:10:12.357602Z"
    }
   },
   "outputs": [],
   "source": [
    "from datasets import load_dataset, concatenate_datasets"
   ]
  },
  {
   "cell_type": "markdown",
   "id": "55eadbf7",
   "metadata": {},
   "source": [
    "## 数据集"
   ]
  },
  {
   "cell_type": "markdown",
   "id": "d5766473",
   "metadata": {},
   "source": [
    "```\n",
    "import pandas as pd\n",
    "\n",
    "# List of datasets to concatenate\n",
    "datasets_names = [\n",
    "    \"medalpaca/medical_meadow_mediqa\",\n",
    "    \"medalpaca/medical_meadow_mmmlu\",\n",
    "    \"medalpaca/medical_meadow_medical_flashcards\",\n",
    "    \"medalpaca/medical_meadow_wikidoc_patient_information\",\n",
    "    \"medalpaca/medical_meadow_wikidoc\",\n",
    "    \"medalpaca/medical_meadow_pubmed_causal\",\n",
    "    \"medalpaca/medical_meadow_medqa\",\n",
    "    \"medalpaca/medical_meadow_health_advice\",\n",
    "    \"medalpaca/medical_meadow_cord19\",\n",
    "]\n",
    "\n",
    "# Load and combine datasets\n",
    "datasets = [load_dataset(name, split=\"train\") for name in datasets_names]\n",
    "combined_dataset = concatenate_datasets(datasets)\n",
    "```"
   ]
  },
  {
   "cell_type": "markdown",
   "id": "198a0155",
   "metadata": {},
   "source": [
    "## MedQA"
   ]
  },
  {
   "cell_type": "markdown",
   "id": "cf3d414c",
   "metadata": {},
   "source": [
    "- `\"GBaker/MedQA-USMLE-4-options\"`\n",
    "    - 选择题的形式提供，四选题；\n",
    "    - US Medical License Exam"
   ]
  },
  {
   "cell_type": "code",
   "execution_count": 2,
   "id": "56d20d2a",
   "metadata": {
    "ExecuteTime": {
     "end_time": "2023-08-19T11:10:22.911862Z",
     "start_time": "2023-08-19T11:10:20.192502Z"
    }
   },
   "outputs": [
    {
     "name": "stderr",
     "output_type": "stream",
     "text": [
      "Found cached dataset json (/media/whaow/.cache/huggingface/datasets/GBaker___json/GBaker--MedQA-USMLE-4-options-4a9914430e36c3d0/0.0.0/0f7e3662623656454fcd2b650f34e886a7db4b9104504885bd462096cc7a9f51)\n"
     ]
    }
   ],
   "source": [
    "dataset = load_dataset(\"GBaker/MedQA-USMLE-4-options\", split='train')"
   ]
  },
  {
   "cell_type": "code",
   "execution_count": 3,
   "id": "f30f8a81",
   "metadata": {
    "ExecuteTime": {
     "end_time": "2023-08-19T11:10:26.033948Z",
     "start_time": "2023-08-19T11:10:26.019830Z"
    }
   },
   "outputs": [
    {
     "data": {
      "text/plain": [
       "Dataset({\n",
       "    features: ['question', 'answer', 'options', 'meta_info', 'answer_idx', 'metamap_phrases'],\n",
       "    num_rows: 10178\n",
       "})"
      ]
     },
     "execution_count": 3,
     "metadata": {},
     "output_type": "execute_result"
    }
   ],
   "source": [
    "dataset"
   ]
  },
  {
   "cell_type": "code",
   "execution_count": 6,
   "id": "183238db",
   "metadata": {
    "ExecuteTime": {
     "end_time": "2023-08-19T11:49:00.470959Z",
     "start_time": "2023-08-19T11:49:00.464414Z"
    }
   },
   "outputs": [],
   "source": [
    "#dataset[2]"
   ]
  }
 ],
 "metadata": {
  "kernelspec": {
   "display_name": "Python 3 (ipykernel)",
   "language": "python",
   "name": "python3"
  },
  "language_info": {
   "codemirror_mode": {
    "name": "ipython",
    "version": 3
   },
   "file_extension": ".py",
   "mimetype": "text/x-python",
   "name": "python",
   "nbconvert_exporter": "python",
   "pygments_lexer": "ipython3",
   "version": "3.10.13"
  },
  "toc": {
   "base_numbering": 1,
   "nav_menu": {},
   "number_sections": true,
   "sideBar": true,
   "skip_h1_title": false,
   "title_cell": "Table of Contents",
   "title_sidebar": "Contents",
   "toc_cell": false,
   "toc_position": {},
   "toc_section_display": true,
   "toc_window_display": false
  }
 },
 "nbformat": 4,
 "nbformat_minor": 5
}
