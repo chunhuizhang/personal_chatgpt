{
 "cells": [
  {
   "cell_type": "markdown",
   "id": "0af0c10f",
   "metadata": {},
   "source": [
    "## model 构建"
   ]
  },
  {
   "cell_type": "markdown",
   "id": "12c77f96",
   "metadata": {},
   "source": [
    "- dropout: 对于避免过拟合和泛化，很有必要\n",
    "    - 包括 lora"
   ]
  },
  {
   "cell_type": "markdown",
   "id": "1f8b154c",
   "metadata": {},
   "source": [
    "## quantization"
   ]
  },
  {
   "cell_type": "markdown",
   "id": "081eaebb",
   "metadata": {},
   "source": [
    "- https://evanw.github.io/float-toy/\n",
    "    - https://blog.csdn.net/leo0308/article/details/117398166"
   ]
  },
  {
   "cell_type": "markdown",
   "id": "3444d781",
   "metadata": {},
   "source": [
    "- lora with int8\n",
    "- 降低权重和激活值的精度（weights/activations）"
   ]
  },
  {
   "cell_type": "markdown",
   "id": "c8bf72ec",
   "metadata": {},
   "source": [
    "- 8bit：2^8-1 == 255\n",
    "- 16bit: 2^16-1 == 65535（unsigned）"
   ]
  }
 ],
 "metadata": {
  "kernelspec": {
   "display_name": "Python 3 (ipykernel)",
   "language": "python",
   "name": "python3"
  },
  "language_info": {
   "codemirror_mode": {
    "name": "ipython",
    "version": 3
   },
   "file_extension": ".py",
   "mimetype": "text/x-python",
   "name": "python",
   "nbconvert_exporter": "python",
   "pygments_lexer": "ipython3",
   "version": "3.10.13"
  },
  "toc": {
   "base_numbering": 1,
   "nav_menu": {},
   "number_sections": true,
   "sideBar": true,
   "skip_h1_title": false,
   "title_cell": "Table of Contents",
   "title_sidebar": "Contents",
   "toc_cell": false,
   "toc_position": {},
   "toc_section_display": true,
   "toc_window_display": false
  }
 },
 "nbformat": 4,
 "nbformat_minor": 5
}
