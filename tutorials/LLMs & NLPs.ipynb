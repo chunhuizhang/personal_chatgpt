{
 "cells": [
  {
   "cell_type": "markdown",
   "id": "62899016",
   "metadata": {},
   "source": [
    "## NLPs\n"
   ]
  },
  {
   "cell_type": "markdown",
   "id": "600c7bf3",
   "metadata": {},
   "source": [
    "- Sequence Classification：预测一个序列（句子，sequence of words）的 label\n",
    "- Token Classification：NER，Part-of-Speech（PoS） tagging\n",
    "- LM\n",
    "    - Casual Language Model"
   ]
  },
  {
   "cell_type": "markdown",
   "id": "112f3ac3",
   "metadata": {},
   "source": [
    "## LLMs"
   ]
  },
  {
   "cell_type": "markdown",
   "id": "6dab0672",
   "metadata": {
    "ExecuteTime": {
     "end_time": "2023-06-01T13:27:46.945022Z",
     "start_time": "2023-06-01T13:27:46.934630Z"
    }
   },
   "source": [
    "```\n",
    "from transformers import AutoTokenizer, AutoConfig, AutoModelForCausalLM\n",
    "\n",
    "# facebook/opt-6.7b, 13GB\n",
    "# Open Pre-Trained（meta）\n",
    "model = AutoModelForCausalLM.from_pretrained(\n",
    "    \"facebook/opt-6.7b\", \n",
    "    load_in_8bit=True, \n",
    "    device_map='auto',\n",
    ")\n",
    "tokenizer = AutoTokenizer.from_pretrained(\"facebook/opt-6.7b\")\n",
    "\n",
    "\n",
    "```"
   ]
  },
  {
   "cell_type": "markdown",
   "id": "35c0062f",
   "metadata": {},
   "source": [
    "### llama"
   ]
  },
  {
   "cell_type": "markdown",
   "id": "521ead2b",
   "metadata": {
    "ExecuteTime": {
     "end_time": "2023-06-01T14:31:32.255095Z",
     "start_time": "2023-06-01T14:31:32.246542Z"
    }
   },
   "source": [
    "```\n",
    "from transformers import LlamaTokenizer, LlamaForCausalLM, GenerationConfig\n",
    "model = LlamaForCausalLM.from_pretrained(\"decapoda-research/llama-7b-hf\",\n",
    "    load_in_8bit=True,\n",
    "    device_map=\"auto\",\n",
    ")\n",
    "tokenizer = LlamaTokenizer.from_pretrained(\"decapoda-research/llama-7b-hf\")\n",
    "```"
   ]
  },
  {
   "cell_type": "markdown",
   "id": "a2d85487",
   "metadata": {},
   "source": [
    "## peft for LLMs"
   ]
  },
  {
   "cell_type": "markdown",
   "id": "f81cdb38",
   "metadata": {},
   "source": [
    "- target_modules:\n",
    "\n",
    "```\n",
    "TRANSFORMERS_MODELS_TO_LORA_TARGET_MODULES_MAPPING = {\n",
    "    \"t5\": [\"q\", \"v\"],\n",
    "    \"mt5\": [\"q\", \"v\"],\n",
    "    \"bart\": [\"q_proj\", \"v_proj\"],\n",
    "    \"gpt2\": [\"c_attn\"],\n",
    "    \"bloom\": [\"query_key_value\"],\n",
    "    \"blip-2\": [\"q\", \"v\", \"q_proj\", \"v_proj\"],\n",
    "    \"opt\": [\"q_proj\", \"v_proj\"],\n",
    "    \"gptj\": [\"q_proj\", \"v_proj\"],\n",
    "    \"gpt_neox\": [\"query_key_value\"],\n",
    "    \"gpt_neo\": [\"q_proj\", \"v_proj\"],\n",
    "    \"bert\": [\"query\", \"value\"],\n",
    "    \"roberta\": [\"query\", \"value\"],\n",
    "    \"xlm-roberta\": [\"query\", \"value\"],\n",
    "    \"electra\": [\"query\", \"value\"],\n",
    "    \"deberta-v2\": [\"query_proj\", \"value_proj\"],\n",
    "    \"deberta\": [\"in_proj\"],\n",
    "    \"layoutlm\": [\"query\", \"value\"],\n",
    "    \"llama\": [\"q_proj\", \"v_proj\"],\n",
    "    \"chatglm\": [\"query_key_value\"],\n",
    "}\n",
    "```"
   ]
  }
 ],
 "metadata": {
  "kernelspec": {
   "display_name": "Python 3 (ipykernel)",
   "language": "python",
   "name": "python3"
  },
  "language_info": {
   "codemirror_mode": {
    "name": "ipython",
    "version": 3
   },
   "file_extension": ".py",
   "mimetype": "text/x-python",
   "name": "python",
   "nbconvert_exporter": "python",
   "pygments_lexer": "ipython3",
   "version": "3.10.13"
  },
  "toc": {
   "base_numbering": 1,
   "nav_menu": {},
   "number_sections": true,
   "sideBar": true,
   "skip_h1_title": false,
   "title_cell": "Table of Contents",
   "title_sidebar": "Contents",
   "toc_cell": false,
   "toc_position": {},
   "toc_section_display": true,
   "toc_window_display": false
  }
 },
 "nbformat": 4,
 "nbformat_minor": 5
}
