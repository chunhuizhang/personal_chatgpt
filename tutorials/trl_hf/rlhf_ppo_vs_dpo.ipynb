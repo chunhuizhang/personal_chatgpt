{
 "cells": [
  {
   "cell_type": "code",
   "execution_count": 5,
   "id": "65fd6e87-031c-49cf-be45-0aac32430e72",
   "metadata": {
    "execution": {
     "iopub.execute_input": "2024-07-25T14:23:22.524073Z",
     "iopub.status.busy": "2024-07-25T14:23:22.523484Z",
     "iopub.status.idle": "2024-07-25T14:23:22.530772Z",
     "shell.execute_reply": "2024-07-25T14:23:22.529412Z",
     "shell.execute_reply.started": "2024-07-25T14:23:22.524025Z"
    }
   },
   "outputs": [],
   "source": [
    "from IPython.display import Image"
   ]
  },
  {
   "cell_type": "markdown",
   "id": "6d6d86b0-212a-4255-afde-86668e10512b",
   "metadata": {},
   "source": [
    "- references\n",
    "    - https://pub.towardsai.net/reinforcement-learning-from-human-feedback-rlhf-f88687d5402e\n",
    "    - https://medium.com/@joaolages/direct-preference-optimization-dpo-622fc1f18707\n",
    "    - https://huggingface.co/blog/putting_rl_back_in_rlhf_with_rloo"
   ]
  },
  {
   "cell_type": "markdown",
   "id": "ff554c61-1a9d-4eb7-a061-c717b2567f01",
   "metadata": {},
   "source": [
    "### notes"
   ]
  },
  {
   "cell_type": "markdown",
   "id": "e77b062f-bb09-4fd6-90ff-d1d17ecc43b3",
   "metadata": {},
   "source": [
    "- In DPO, there is no reinforcement learning, and the model is directly optimized in this preference data.\n",
    "    - unlike RLHF, these responses do not have to be **sampled from the language model** that we are optimizing.\n",
    "- messy details\n",
    "    - high level：add per-token KL penalty, last-token full reward\n",
    "    - insted of reward, we use advantages\n",
    "\n",
    "$$\n",
    "\\hat{A}_t^{\\text{GAE}(\\gamma, \\lambda)} := \\sum_{l=0}^\\infty (\\gamma \\lambda)^l \\delta_{t+l}^V \\quad \\text{where} \\quad \\delta_t^V = r_t + \\gamma V(s_{t+1}) - V(s_t),\n",
    "$$"
   ]
  },
  {
   "cell_type": "code",
   "execution_count": 4,
   "id": "cc81fc86-6ae1-4565-ab2a-97ee236190b0",
   "metadata": {
    "execution": {
     "iopub.execute_input": "2024-07-23T15:16:57.777219Z",
     "iopub.status.busy": "2024-07-23T15:16:57.776621Z",
     "iopub.status.idle": "2024-07-23T15:16:57.789537Z",
     "shell.execute_reply": "2024-07-23T15:16:57.787401Z",
     "shell.execute_reply.started": "2024-07-23T15:16:57.777171Z"
    }
   },
   "outputs": [
    {
     "data": {
      "text/html": [
       "<img src=\"https://miro.medium.com/v2/resize:fit:1400/format:webp/1*AqKOT0pxzi5kOgiobb-Fvg.png\" width=\"600\"/>"
      ],
      "text/plain": [
       "<IPython.core.display.Image object>"
      ]
     },
     "execution_count": 4,
     "metadata": {},
     "output_type": "execute_result"
    }
   ],
   "source": [
    "# DPO\n",
    "Image(url='https://miro.medium.com/v2/resize:fit:1400/format:webp/1*AqKOT0pxzi5kOgiobb-Fvg.png', width=600)"
   ]
  },
  {
   "cell_type": "markdown",
   "id": "df1b13b3-3386-49a3-a504-a504503f8b1e",
   "metadata": {},
   "source": [
    "- chosen **score** / rejected **score**\n",
    "    - This **score** is the product of the probabilities associated with the desired response token for each step."
   ]
  },
  {
   "cell_type": "markdown",
   "id": "b1d13a73-2341-4437-bb53-3447f3ad93a4",
   "metadata": {},
   "source": [
    "## Rejection Sampling"
   ]
  },
  {
   "cell_type": "code",
   "execution_count": 6,
   "id": "65e62cbc-7c8c-42d0-be4a-28ee70e002d8",
   "metadata": {
    "execution": {
     "iopub.execute_input": "2024-07-25T14:24:11.015945Z",
     "iopub.status.busy": "2024-07-25T14:24:11.014483Z",
     "iopub.status.idle": "2024-07-25T14:24:11.024175Z",
     "shell.execute_reply": "2024-07-25T14:24:11.022919Z",
     "shell.execute_reply.started": "2024-07-25T14:24:11.015881Z"
    }
   },
   "outputs": [
    {
     "data": {
      "text/html": [
       "<img src=\"./imgs/instructGPT.jpeg\" width=\"500\"/>"
      ],
      "text/plain": [
       "<IPython.core.display.Image object>"
      ]
     },
     "execution_count": 6,
     "metadata": {},
     "output_type": "execute_result"
    }
   ],
   "source": [
    "Image(url='./imgs/instructGPT.jpeg', width=500)"
   ]
  },
  {
   "cell_type": "markdown",
   "id": "d4ba09a7-c866-4e9e-b181-bfc08ed754a6",
   "metadata": {},
   "source": [
    "- RLHF 阶段的输入是 prompt（query，或者纯由用户构造），注意跟 SFT 不同（其是由问答对 prompt & response 构成）"
   ]
  }
 ],
 "metadata": {
  "kernelspec": {
   "display_name": "Python 3 (ipykernel)",
   "language": "python",
   "name": "python3"
  },
  "language_info": {
   "codemirror_mode": {
    "name": "ipython",
    "version": 3
   },
   "file_extension": ".py",
   "mimetype": "text/x-python",
   "name": "python",
   "nbconvert_exporter": "python",
   "pygments_lexer": "ipython3",
   "version": "3.10.13"
  }
 },
 "nbformat": 4,
 "nbformat_minor": 5
}
