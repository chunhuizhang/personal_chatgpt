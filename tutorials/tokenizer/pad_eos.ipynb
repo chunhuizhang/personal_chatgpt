{
 "cells": [
  {
   "cell_type": "code",
   "execution_count": 1,
   "id": "17784026-86a6-4a35-84cc-742db1966e2e",
   "metadata": {
    "execution": {
     "iopub.execute_input": "2024-12-15T08:47:37.468097Z",
     "iopub.status.busy": "2024-12-15T08:47:37.467909Z",
     "iopub.status.idle": "2024-12-15T08:47:38.621971Z",
     "shell.execute_reply": "2024-12-15T08:47:38.621061Z",
     "shell.execute_reply.started": "2024-12-15T08:47:37.468082Z"
    }
   },
   "outputs": [],
   "source": [
    "from transformers import AutoTokenizer"
   ]
  },
  {
   "cell_type": "code",
   "execution_count": 46,
   "id": "eb90fcf4-e7b8-4199-828e-a5eb39fe2847",
   "metadata": {
    "execution": {
     "iopub.execute_input": "2024-12-15T08:57:23.704329Z",
     "iopub.status.busy": "2024-12-15T08:57:23.703670Z",
     "iopub.status.idle": "2024-12-15T08:57:23.712917Z",
     "shell.execute_reply": "2024-12-15T08:57:23.710770Z",
     "shell.execute_reply.started": "2024-12-15T08:57:23.704283Z"
    }
   },
   "outputs": [],
   "source": [
    "# model_name = 'meta-llama/Llama-2-7b'\n",
    "model_name = 'meta-llama/Llama-3.1-8B'\n",
    "# model_name = 'meta-llama/Meta-Llama-3-8B'\n",
    "# model_name = 'gpt2'"
   ]
  },
  {
   "cell_type": "code",
   "execution_count": 47,
   "id": "32c719ff-2b41-4bd2-b8db-e5605ca4329a",
   "metadata": {
    "execution": {
     "iopub.execute_input": "2024-12-15T08:57:25.031335Z",
     "iopub.status.busy": "2024-12-15T08:57:25.030736Z",
     "iopub.status.idle": "2024-12-15T08:57:25.920480Z",
     "shell.execute_reply": "2024-12-15T08:57:25.918596Z",
     "shell.execute_reply.started": "2024-12-15T08:57:25.031289Z"
    }
   },
   "outputs": [],
   "source": [
    "tokenizer = AutoTokenizer.from_pretrained(model_name, trust_remote_code=True)"
   ]
  },
  {
   "cell_type": "code",
   "execution_count": 48,
   "id": "4d017c31-0dc1-42e2-bf44-eaff44922e70",
   "metadata": {
    "execution": {
     "iopub.execute_input": "2024-12-15T08:57:27.295351Z",
     "iopub.status.busy": "2024-12-15T08:57:27.295059Z",
     "iopub.status.idle": "2024-12-15T08:57:27.305237Z",
     "shell.execute_reply": "2024-12-15T08:57:27.303165Z",
     "shell.execute_reply.started": "2024-12-15T08:57:27.295332Z"
    }
   },
   "outputs": [
    {
     "data": {
      "text/plain": [
       "{'bos_token': '<|begin_of_text|>', 'eos_token': '<|end_of_text|>'}"
      ]
     },
     "execution_count": 48,
     "metadata": {},
     "output_type": "execute_result"
    }
   ],
   "source": [
    "tokenizer.special_tokens_map"
   ]
  },
  {
   "cell_type": "code",
   "execution_count": 49,
   "id": "8d79b1a2-c8ae-427c-ad1d-833132bb73de",
   "metadata": {
    "execution": {
     "iopub.execute_input": "2024-12-15T08:57:28.560478Z",
     "iopub.status.busy": "2024-12-15T08:57:28.559679Z",
     "iopub.status.idle": "2024-12-15T08:57:28.571782Z",
     "shell.execute_reply": "2024-12-15T08:57:28.569652Z",
     "shell.execute_reply.started": "2024-12-15T08:57:28.560410Z"
    }
   },
   "outputs": [
    {
     "data": {
      "text/plain": [
       "'right'"
      ]
     },
     "execution_count": 49,
     "metadata": {},
     "output_type": "execute_result"
    }
   ],
   "source": [
    "tokenizer.padding_side"
   ]
  },
  {
   "cell_type": "markdown",
   "id": "920ff383-70b7-4d41-89cd-03e3322c5956",
   "metadata": {},
   "source": [
    "### `tokenizer.pad_token = tokenizer.eos_token`"
   ]
  },
  {
   "cell_type": "markdown",
   "id": "d6df75f8-7542-4f85-acaa-70f83cc62467",
   "metadata": {},
   "source": [
    "- training\n",
    "    - sent1: \"Hello, how are you?\"\n",
    "        - `[\"Hello,\", \" how\", \" are\", \" you?\", <eos>]`\n",
    "    - sent2: \"I am fine.\"\n",
    "        - `[\"I\", \" am\", \"fine.\", <eos>]`\n",
    "- padding for batch processing\n",
    "    - sent1: `[\"Hello,\", \" how\", \" are\", \" you?\", <eos>]`\n",
    "    - sent2: `[\"I\", \" am\", \"fine.\", <eos>, <pad>]`\n",
    "- pad_token = eos_token\n",
    "    - sent1: `[\"Hello,\", \" how\", \" are\", \" you?\", <eos>]`\n",
    "    - sent2: `[\"I\", \" am\", \"fine.\", <eos>, <eos>]`"
   ]
  },
  {
   "cell_type": "code",
   "execution_count": 50,
   "id": "495951f1-9f2f-45ba-91bb-079099f3da6f",
   "metadata": {
    "execution": {
     "iopub.execute_input": "2024-12-15T08:57:30.338552Z",
     "iopub.status.busy": "2024-12-15T08:57:30.337929Z",
     "iopub.status.idle": "2024-12-15T08:57:30.346729Z",
     "shell.execute_reply": "2024-12-15T08:57:30.344545Z",
     "shell.execute_reply.started": "2024-12-15T08:57:30.338492Z"
    }
   },
   "outputs": [],
   "source": [
    "sent1 = \"Hello, how are you?\"\n",
    "sent2 = \"I am fine.\""
   ]
  },
  {
   "cell_type": "code",
   "execution_count": 51,
   "id": "a0bb9cee-74cc-4acf-a64e-920086dbd942",
   "metadata": {
    "execution": {
     "iopub.execute_input": "2024-12-15T08:57:33.734907Z",
     "iopub.status.busy": "2024-12-15T08:57:33.734272Z",
     "iopub.status.idle": "2024-12-15T08:57:33.747140Z",
     "shell.execute_reply": "2024-12-15T08:57:33.744992Z",
     "shell.execute_reply.started": "2024-12-15T08:57:33.734862Z"
    }
   },
   "outputs": [
    {
     "data": {
      "text/plain": [
       "[128000, 9906, 11, 1268, 527, 499, 30]"
      ]
     },
     "execution_count": 51,
     "metadata": {},
     "output_type": "execute_result"
    }
   ],
   "source": [
    "tokenizer.encode(sent1)"
   ]
  },
  {
   "cell_type": "code",
   "execution_count": 53,
   "id": "981fa5ac-f189-4711-9183-1602517278f8",
   "metadata": {
    "execution": {
     "iopub.execute_input": "2024-12-15T08:58:19.807660Z",
     "iopub.status.busy": "2024-12-15T08:58:19.807032Z",
     "iopub.status.idle": "2024-12-15T08:58:19.820964Z",
     "shell.execute_reply": "2024-12-15T08:58:19.818685Z",
     "shell.execute_reply.started": "2024-12-15T08:58:19.807611Z"
    }
   },
   "outputs": [
    {
     "data": {
      "text/plain": [
       "['Hello', ',', 'Ġhow', 'Ġare', 'Ġyou', '?']"
      ]
     },
     "execution_count": 53,
     "metadata": {},
     "output_type": "execute_result"
    }
   ],
   "source": [
    "tokenizer.tokenize(sent1)"
   ]
  },
  {
   "cell_type": "code",
   "execution_count": 52,
   "id": "76697c56-207c-4df1-9f71-5acaaaac0736",
   "metadata": {
    "execution": {
     "iopub.execute_input": "2024-12-15T08:57:38.658957Z",
     "iopub.status.busy": "2024-12-15T08:57:38.658305Z",
     "iopub.status.idle": "2024-12-15T08:57:38.672029Z",
     "shell.execute_reply": "2024-12-15T08:57:38.669897Z",
     "shell.execute_reply.started": "2024-12-15T08:57:38.658910Z"
    }
   },
   "outputs": [
    {
     "data": {
      "text/plain": [
       "('<|begin_of_text|>', '?')"
      ]
     },
     "execution_count": 52,
     "metadata": {},
     "output_type": "execute_result"
    }
   ],
   "source": [
    "tokenizer.decode(128000), tokenizer.decode(30)"
   ]
  },
  {
   "cell_type": "code",
   "execution_count": null,
   "id": "96b16972-d53d-4529-b3d5-e84f7b90126e",
   "metadata": {},
   "outputs": [],
   "source": []
  }
 ],
 "metadata": {
  "kernelspec": {
   "display_name": "Python 3 (ipykernel)",
   "language": "python",
   "name": "python3"
  },
  "language_info": {
   "codemirror_mode": {
    "name": "ipython",
    "version": 3
   },
   "file_extension": ".py",
   "mimetype": "text/x-python",
   "name": "python",
   "nbconvert_exporter": "python",
   "pygments_lexer": "ipython3",
   "version": "3.10.13"
  }
 },
 "nbformat": 4,
 "nbformat_minor": 5
}
