{
 "cells": [
  {
   "cell_type": "markdown",
   "id": "3addcc96-4a14-4fef-8c59-123dc378efe4",
   "metadata": {},
   "source": [
    "- https://www.youtube.com/watch?v=kCc8FmEb1nY\n",
    "    - https://colab.research.google.com/drive/1JMLa53HDuA-i7ZBmqV7ZnA3c_fvtXnx-?usp=sharing#scrollTo=h5hjCcLDr2WC\n",
    "    - https://github.com/karpathy/ng-video-lecture"
   ]
  },
  {
   "cell_type": "markdown",
   "id": "527f63b0-32b0-45f5-a4e9-fa9a6018b91c",
   "metadata": {},
   "source": [
    "### text data"
   ]
  },
  {
   "cell_type": "code",
   "execution_count": 1,
   "id": "4561e8db-7ea0-4d03-9807-5f66265785a4",
   "metadata": {
    "execution": {
     "iopub.execute_input": "2024-12-15T12:59:48.348964Z",
     "iopub.status.busy": "2024-12-15T12:59:48.348316Z",
     "iopub.status.idle": "2024-12-15T12:59:49.613934Z",
     "shell.execute_reply": "2024-12-15T12:59:49.611617Z",
     "shell.execute_reply.started": "2024-12-15T12:59:48.348914Z"
    }
   },
   "outputs": [
    {
     "name": "stdout",
     "output_type": "stream",
     "text": [
      "--2024-12-15 20:59:48--  https://raw.githubusercontent.com/karpathy/char-rnn/master/data/tinyshakespeare/input.txt\n",
      "Connecting to 127.0.0.1:7890... connected.\n",
      "Proxy request sent, awaiting response... 200 OK\n",
      "Length: 1115394 (1.1M) [text/plain]\n",
      "Saving to: ‘input.txt’\n",
      "\n",
      "input.txt           100%[===================>]   1.06M  3.74MB/s    in 0.3s    \n",
      "\n",
      "2024-12-15 20:59:49 (3.74 MB/s) - ‘input.txt’ saved [1115394/1115394]\n",
      "\n"
     ]
    }
   ],
   "source": [
    "!wget https://raw.githubusercontent.com/karpathy/char-rnn/master/data/tinyshakespeare/input.txt"
   ]
  },
  {
   "cell_type": "code",
   "execution_count": 2,
   "id": "b5ec58a9-a64e-4262-8859-61c8b960a76c",
   "metadata": {
    "execution": {
     "iopub.execute_input": "2024-12-15T13:00:29.559833Z",
     "iopub.status.busy": "2024-12-15T13:00:29.559166Z",
     "iopub.status.idle": "2024-12-15T13:00:29.572270Z",
     "shell.execute_reply": "2024-12-15T13:00:29.570496Z",
     "shell.execute_reply.started": "2024-12-15T13:00:29.559788Z"
    }
   },
   "outputs": [],
   "source": [
    "with open('input.txt', 'r', encoding='utf-8') as f:\n",
    "    text = f.read()"
   ]
  },
  {
   "cell_type": "code",
   "execution_count": 3,
   "id": "089684de-a0c8-415e-8548-1846c2b1f549",
   "metadata": {
    "execution": {
     "iopub.execute_input": "2024-12-15T13:00:34.984085Z",
     "iopub.status.busy": "2024-12-15T13:00:34.983468Z",
     "iopub.status.idle": "2024-12-15T13:00:35.002919Z",
     "shell.execute_reply": "2024-12-15T13:00:35.000747Z",
     "shell.execute_reply.started": "2024-12-15T13:00:34.984041Z"
    }
   },
   "outputs": [
    {
     "data": {
      "text/plain": [
       "1115394"
      ]
     },
     "execution_count": 3,
     "metadata": {},
     "output_type": "execute_result"
    }
   ],
   "source": [
    "len(text)"
   ]
  },
  {
   "cell_type": "code",
   "execution_count": 6,
   "id": "967bcdd7-268f-48fa-a240-10beca380eb4",
   "metadata": {
    "execution": {
     "iopub.execute_input": "2024-12-15T13:00:50.426457Z",
     "iopub.status.busy": "2024-12-15T13:00:50.425848Z",
     "iopub.status.idle": "2024-12-15T13:00:50.435581Z",
     "shell.execute_reply": "2024-12-15T13:00:50.433383Z",
     "shell.execute_reply.started": "2024-12-15T13:00:50.426413Z"
    }
   },
   "outputs": [
    {
     "name": "stdout",
     "output_type": "stream",
     "text": [
      "First Citizen:\n",
      "Before we proceed any further, hear me speak.\n",
      "\n",
      "All:\n",
      "Speak, speak.\n"
     ]
    }
   ],
   "source": [
    "print(text[:80])"
   ]
  },
  {
   "cell_type": "code",
   "execution_count": 7,
   "id": "077feac4-9ab1-4f33-af16-0d794231e04c",
   "metadata": {
    "execution": {
     "iopub.execute_input": "2024-12-15T13:01:00.495741Z",
     "iopub.status.busy": "2024-12-15T13:01:00.495102Z",
     "iopub.status.idle": "2024-12-15T13:01:00.550007Z",
     "shell.execute_reply": "2024-12-15T13:01:00.547777Z",
     "shell.execute_reply.started": "2024-12-15T13:01:00.495695Z"
    }
   },
   "outputs": [
    {
     "name": "stdout",
     "output_type": "stream",
     "text": [
      "\n",
      " !$&',-.3:;?ABCDEFGHIJKLMNOPQRSTUVWXYZabcdefghijklmnopqrstuvwxyz\n",
      "65\n"
     ]
    }
   ],
   "source": [
    "chars = sorted(list(set(text)))\n",
    "vocab_size = len(chars)\n",
    "# 3: \n",
    "print(''.join(chars))\n",
    "print(vocab_size)"
   ]
  },
  {
   "cell_type": "markdown",
   "id": "a736a14b-0ba6-4532-be13-1c10353d75f0",
   "metadata": {},
   "source": [
    "### tokenizer"
   ]
  },
  {
   "cell_type": "code",
   "execution_count": 8,
   "id": "36ba1893-977c-4597-b187-b4def585512c",
   "metadata": {
    "execution": {
     "iopub.execute_input": "2024-12-15T13:01:57.519897Z",
     "iopub.status.busy": "2024-12-15T13:01:57.519255Z",
     "iopub.status.idle": "2024-12-15T13:01:57.534571Z",
     "shell.execute_reply": "2024-12-15T13:01:57.532408Z",
     "shell.execute_reply.started": "2024-12-15T13:01:57.519852Z"
    }
   },
   "outputs": [
    {
     "name": "stdout",
     "output_type": "stream",
     "text": [
      "[46, 47, 47, 1, 58, 46, 43, 56, 43]\n",
      "hii there\n"
     ]
    }
   ],
   "source": [
    "# create a mapping from characters to integers\n",
    "stoi = { ch:i for i,ch in enumerate(chars) }\n",
    "itos = { i:ch for i,ch in enumerate(chars) }\n",
    "encode = lambda s: [stoi[c] for c in s] # encoder: take a string, output a list of integers\n",
    "decode = lambda l: ''.join([itos[i] for i in l]) # decoder: take a list of integers, output a string\n",
    "\n",
    "print(encode(\"hii there\"))\n",
    "print(decode(encode(\"hii there\")))"
   ]
  },
  {
   "cell_type": "code",
   "execution_count": 17,
   "id": "9662b06b-bab8-4be4-bcb0-b6b2b1d97794",
   "metadata": {
    "execution": {
     "iopub.execute_input": "2024-12-15T13:05:06.668791Z",
     "iopub.status.busy": "2024-12-15T13:05:06.668126Z",
     "iopub.status.idle": "2024-12-15T13:05:06.680437Z",
     "shell.execute_reply": "2024-12-15T13:05:06.678455Z",
     "shell.execute_reply.started": "2024-12-15T13:05:06.668746Z"
    }
   },
   "outputs": [
    {
     "data": {
      "text/plain": [
       "([1], [0], [1, 1])"
      ]
     },
     "execution_count": 17,
     "metadata": {},
     "output_type": "execute_result"
    }
   ],
   "source": [
    "encode(' '), encode('\\n'), encode('  ')"
   ]
  },
  {
   "cell_type": "code",
   "execution_count": 10,
   "id": "9414c2e1-c438-4f04-825d-a4e0c34a49eb",
   "metadata": {
    "execution": {
     "iopub.execute_input": "2024-12-15T13:02:48.267502Z",
     "iopub.status.busy": "2024-12-15T13:02:48.267118Z",
     "iopub.status.idle": "2024-12-15T13:02:48.452011Z",
     "shell.execute_reply": "2024-12-15T13:02:48.450695Z",
     "shell.execute_reply.started": "2024-12-15T13:02:48.267481Z"
    }
   },
   "outputs": [
    {
     "name": "stdout",
     "output_type": "stream",
     "text": [
      "torch.Size([1115394]) torch.int64\n",
      "tensor([18, 47, 56, 57, 58,  1, 15, 47, 58, 47, 64, 43, 52, 10,  0, 14, 43, 44,\n",
      "        53, 56, 43,  1, 61, 43,  1, 54, 56, 53, 41, 43, 43, 42,  1, 39, 52, 63,\n",
      "         1, 44, 59, 56, 58, 46, 43, 56,  6,  1, 46, 43, 39, 56])\n"
     ]
    }
   ],
   "source": [
    "import torch # we use PyTorch: https://pytorch.org\n",
    "data = torch.tensor(encode(text), dtype=torch.long)\n",
    "print(data.shape, data.dtype)\n",
    "print(data[:50])"
   ]
  },
  {
   "cell_type": "code",
   "execution_count": 14,
   "id": "02b3a244-53c5-475d-80d7-134ead58e394",
   "metadata": {
    "execution": {
     "iopub.execute_input": "2024-12-15T13:03:29.077039Z",
     "iopub.status.busy": "2024-12-15T13:03:29.076367Z",
     "iopub.status.idle": "2024-12-15T13:03:29.088643Z",
     "shell.execute_reply": "2024-12-15T13:03:29.086495Z",
     "shell.execute_reply.started": "2024-12-15T13:03:29.076991Z"
    }
   },
   "outputs": [
    {
     "data": {
      "text/plain": [
       "'First Citizen:\\nBefore we proceed any further, hear'"
      ]
     },
     "execution_count": 14,
     "metadata": {},
     "output_type": "execute_result"
    }
   ],
   "source": [
    "text[:50]"
   ]
  },
  {
   "cell_type": "code",
   "execution_count": 13,
   "id": "434c1223-dad8-407b-8726-59a2a7daa226",
   "metadata": {
    "execution": {
     "iopub.execute_input": "2024-12-15T13:03:11.408856Z",
     "iopub.status.busy": "2024-12-15T13:03:11.408187Z",
     "iopub.status.idle": "2024-12-15T13:03:11.421816Z",
     "shell.execute_reply": "2024-12-15T13:03:11.419561Z",
     "shell.execute_reply.started": "2024-12-15T13:03:11.408809Z"
    }
   },
   "outputs": [
    {
     "data": {
      "text/plain": [
       "'First Citizen:\\nBefore we proceed any further, hear'"
      ]
     },
     "execution_count": 13,
     "metadata": {},
     "output_type": "execute_result"
    }
   ],
   "source": [
    "decode(data[:50].tolist())"
   ]
  },
  {
   "cell_type": "markdown",
   "id": "9bb12946-9110-4411-bf5b-6f1377511b7b",
   "metadata": {},
   "source": [
    "### training dataset"
   ]
  },
  {
   "cell_type": "code",
   "execution_count": 18,
   "id": "4dbd4ec4-4830-49fc-b7e2-18f2dd934abd",
   "metadata": {
    "execution": {
     "iopub.execute_input": "2024-12-15T13:05:37.849846Z",
     "iopub.status.busy": "2024-12-15T13:05:37.849188Z",
     "iopub.status.idle": "2024-12-15T13:05:37.859990Z",
     "shell.execute_reply": "2024-12-15T13:05:37.857685Z",
     "shell.execute_reply.started": "2024-12-15T13:05:37.849798Z"
    }
   },
   "outputs": [],
   "source": [
    "n = int(0.9*len(data)) # first 90% will be train, rest val\n",
    "train_data = data[:n]\n",
    "val_data = data[n:]"
   ]
  },
  {
   "cell_type": "code",
   "execution_count": 19,
   "id": "5835346c-a545-4fac-b699-863d2d499253",
   "metadata": {
    "execution": {
     "iopub.execute_input": "2024-12-15T13:05:46.593762Z",
     "iopub.status.busy": "2024-12-15T13:05:46.593153Z",
     "iopub.status.idle": "2024-12-15T13:05:46.605056Z",
     "shell.execute_reply": "2024-12-15T13:05:46.603221Z",
     "shell.execute_reply.started": "2024-12-15T13:05:46.593717Z"
    }
   },
   "outputs": [
    {
     "data": {
      "text/plain": [
       "(1003854, 111540)"
      ]
     },
     "execution_count": 19,
     "metadata": {},
     "output_type": "execute_result"
    }
   ],
   "source": [
    "len(train_data), len(val_data)"
   ]
  },
  {
   "cell_type": "code",
   "execution_count": 20,
   "id": "e4ac3431-0189-4348-8054-c9f69045acfe",
   "metadata": {
    "execution": {
     "iopub.execute_input": "2024-12-15T13:06:29.234702Z",
     "iopub.status.busy": "2024-12-15T13:06:29.234038Z",
     "iopub.status.idle": "2024-12-15T13:06:29.247951Z",
     "shell.execute_reply": "2024-12-15T13:06:29.245832Z",
     "shell.execute_reply.started": "2024-12-15T13:06:29.234655Z"
    }
   },
   "outputs": [
    {
     "data": {
      "text/plain": [
       "tensor([18, 47, 56, 57, 58,  1, 15, 47, 58])"
      ]
     },
     "execution_count": 20,
     "metadata": {},
     "output_type": "execute_result"
    }
   ],
   "source": [
    "block_size = 8\n",
    "train_data[:block_size+1]"
   ]
  },
  {
   "cell_type": "code",
   "execution_count": 21,
   "id": "879e43a2-95b1-4c08-a018-72ad9f293666",
   "metadata": {
    "execution": {
     "iopub.execute_input": "2024-12-15T13:06:38.930918Z",
     "iopub.status.busy": "2024-12-15T13:06:38.930264Z",
     "iopub.status.idle": "2024-12-15T13:06:38.948793Z",
     "shell.execute_reply": "2024-12-15T13:06:38.946592Z",
     "shell.execute_reply.started": "2024-12-15T13:06:38.930871Z"
    }
   },
   "outputs": [
    {
     "name": "stdout",
     "output_type": "stream",
     "text": [
      "when input is tensor([18]) the target: 47\n",
      "when input is tensor([18, 47]) the target: 56\n",
      "when input is tensor([18, 47, 56]) the target: 57\n",
      "when input is tensor([18, 47, 56, 57]) the target: 58\n",
      "when input is tensor([18, 47, 56, 57, 58]) the target: 1\n",
      "when input is tensor([18, 47, 56, 57, 58,  1]) the target: 15\n",
      "when input is tensor([18, 47, 56, 57, 58,  1, 15]) the target: 47\n",
      "when input is tensor([18, 47, 56, 57, 58,  1, 15, 47]) the target: 58\n"
     ]
    }
   ],
   "source": [
    "x = train_data[:block_size]\n",
    "# right shift\n",
    "y = train_data[1:block_size+1]\n",
    "for t in range(block_size):\n",
    "    context = x[:t+1]\n",
    "    target = y[t]\n",
    "    print(f\"when input is {context} the target: {target}\")"
   ]
  },
  {
   "cell_type": "code",
   "execution_count": 22,
   "id": "c141afff-2151-4392-a9d7-8ab09c96d348",
   "metadata": {
    "execution": {
     "iopub.execute_input": "2024-12-15T13:08:01.265714Z",
     "iopub.status.busy": "2024-12-15T13:08:01.265053Z",
     "iopub.status.idle": "2024-12-15T13:08:01.298885Z",
     "shell.execute_reply": "2024-12-15T13:08:01.296551Z",
     "shell.execute_reply.started": "2024-12-15T13:08:01.265667Z"
    }
   },
   "outputs": [
    {
     "name": "stdout",
     "output_type": "stream",
     "text": [
      "inputs:\n",
      "torch.Size([4, 8])\n",
      "tensor([[24, 43, 58,  5, 57,  1, 46, 43],\n",
      "        [44, 53, 56,  1, 58, 46, 39, 58],\n",
      "        [52, 58,  1, 58, 46, 39, 58,  1],\n",
      "        [25, 17, 27, 10,  0, 21,  1, 54]])\n",
      "targets:\n",
      "torch.Size([4, 8])\n",
      "tensor([[43, 58,  5, 57,  1, 46, 43, 39],\n",
      "        [53, 56,  1, 58, 46, 39, 58,  1],\n",
      "        [58,  1, 58, 46, 39, 58,  1, 46],\n",
      "        [17, 27, 10,  0, 21,  1, 54, 39]])\n",
      "----\n",
      "when input is [24] the target: 43\n",
      "when input is [24, 43] the target: 58\n",
      "when input is [24, 43, 58] the target: 5\n",
      "when input is [24, 43, 58, 5] the target: 57\n",
      "when input is [24, 43, 58, 5, 57] the target: 1\n",
      "when input is [24, 43, 58, 5, 57, 1] the target: 46\n",
      "when input is [24, 43, 58, 5, 57, 1, 46] the target: 43\n",
      "when input is [24, 43, 58, 5, 57, 1, 46, 43] the target: 39\n",
      "when input is [44] the target: 53\n",
      "when input is [44, 53] the target: 56\n",
      "when input is [44, 53, 56] the target: 1\n",
      "when input is [44, 53, 56, 1] the target: 58\n",
      "when input is [44, 53, 56, 1, 58] the target: 46\n",
      "when input is [44, 53, 56, 1, 58, 46] the target: 39\n",
      "when input is [44, 53, 56, 1, 58, 46, 39] the target: 58\n",
      "when input is [44, 53, 56, 1, 58, 46, 39, 58] the target: 1\n",
      "when input is [52] the target: 58\n",
      "when input is [52, 58] the target: 1\n",
      "when input is [52, 58, 1] the target: 58\n",
      "when input is [52, 58, 1, 58] the target: 46\n",
      "when input is [52, 58, 1, 58, 46] the target: 39\n",
      "when input is [52, 58, 1, 58, 46, 39] the target: 58\n",
      "when input is [52, 58, 1, 58, 46, 39, 58] the target: 1\n",
      "when input is [52, 58, 1, 58, 46, 39, 58, 1] the target: 46\n",
      "when input is [25] the target: 17\n",
      "when input is [25, 17] the target: 27\n",
      "when input is [25, 17, 27] the target: 10\n",
      "when input is [25, 17, 27, 10] the target: 0\n",
      "when input is [25, 17, 27, 10, 0] the target: 21\n",
      "when input is [25, 17, 27, 10, 0, 21] the target: 1\n",
      "when input is [25, 17, 27, 10, 0, 21, 1] the target: 54\n",
      "when input is [25, 17, 27, 10, 0, 21, 1, 54] the target: 39\n"
     ]
    }
   ],
   "source": [
    "torch.manual_seed(1337)\n",
    "batch_size = 4 # how many independent sequences will we process in parallel?\n",
    "block_size = 8 # what is the maximum context length for predictions?\n",
    "\n",
    "def get_batch(split):\n",
    "    # generate a small batch of data of inputs x and targets y\n",
    "    data = train_data if split == 'train' else val_data\n",
    "    ix = torch.randint(len(data) - block_size, (batch_size,))\n",
    "    x = torch.stack([data[i:i+block_size] for i in ix])\n",
    "    y = torch.stack([data[i+1:i+block_size+1] for i in ix])\n",
    "    return x, y\n",
    "\n",
    "xb, yb = get_batch('train')\n",
    "print('inputs:')\n",
    "print(xb.shape)\n",
    "print(xb)\n",
    "print('targets:')\n",
    "print(yb.shape)\n",
    "print(yb)\n",
    "\n",
    "print('----')\n",
    "\n",
    "for b in range(batch_size): # batch dimension\n",
    "    for t in range(block_size): # time dimension\n",
    "        context = xb[b, :t+1]\n",
    "        target = yb[b,t]\n",
    "        print(f\"when input is {context.tolist()} the target: {target}\")"
   ]
  },
  {
   "cell_type": "code",
   "execution_count": null,
   "id": "39c2f284-a128-45bf-95d3-d3328fd4a72c",
   "metadata": {},
   "outputs": [],
   "source": []
  }
 ],
 "metadata": {
  "kernelspec": {
   "display_name": "Python 3 (ipykernel)",
   "language": "python",
   "name": "python3"
  },
  "language_info": {
   "codemirror_mode": {
    "name": "ipython",
    "version": 3
   },
   "file_extension": ".py",
   "mimetype": "text/x-python",
   "name": "python",
   "nbconvert_exporter": "python",
   "pygments_lexer": "ipython3",
   "version": "3.10.13"
  }
 },
 "nbformat": 4,
 "nbformat_minor": 5
}
