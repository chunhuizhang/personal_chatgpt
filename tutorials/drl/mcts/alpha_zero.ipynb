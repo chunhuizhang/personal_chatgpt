{
 "cells": [
  {
   "cell_type": "markdown",
   "id": "7983413e-5977-45bc-8030-4b9ed838fa39",
   "metadata": {},
   "source": [
    "- https://github.com/waylandzhang/alphago_zero_from_scratch"
   ]
  },
  {
   "cell_type": "markdown",
   "id": "d9734382-e759-4f83-b2e8-0f5780ee5519",
   "metadata": {},
   "source": [
    "### Go Neural Network"
   ]
  },
  {
   "cell_type": "markdown",
   "id": "501a366a-71d2-440b-889c-0ea2ce726d66",
   "metadata": {},
   "source": [
    "- input channels\n",
    "    - 6 channels ??（6 个特征平面）\n",
    "        - 0: black\n",
    "        - 1: white\n",
    "        - 2: turn (0 - black, 1 - white)\n",
    "        - 3: invalid moves\n",
    "        - 4: previous move was pass\n",
    "        - 5: Game over\n",
    "- share features\n",
    "- policy head\n",
    "- value head"
   ]
  },
  {
   "cell_type": "markdown",
   "id": "07715f42-588a-4545-aef0-dcf9b1f7f333",
   "metadata": {},
   "source": [
    "- input：(batch_size, 6, 9, 9)\n",
    "- conv_input\n",
    "    - Conv2d(6, 128, kernel_size=3, padding=1)\n",
    "    - 批归一化：BatchNorm2d(128)\n",
    "    - 激活函数：ReLU\n",
    "    - 输出形状：(batch_size, 128, 9, 9)"
   ]
  },
  {
   "cell_type": "markdown",
   "id": "a7a7b692-4ed8-43c5-9a69-d7c224b241c7",
   "metadata": {},
   "source": [
    "#### policy head"
   ]
  },
  {
   "cell_type": "markdown",
   "id": "834ce039-4472-4e2c-9535-54ff94035aa1",
   "metadata": {},
   "source": [
    "- input 形状：(batch_size, 128, 9, 9)\n",
    "- conv、bn、relu、flatten\n",
    "    - Conv2d(128, 2, kernel_size=1) => (batch_size, 2, 9, 9)\n",
    "    - Flatten => (batch_size, 2 * 9 * 9), (batch_size, 162)\n",
    "- fc\n",
    "    - Linear(2 * 9 * 9, 9 * 9 + 1), Linear(162, 82)\n",
    "    - 生成每个可能动作的得分，其中 81 个动作对应棋盘上的每个位置，+1 对应“弃权”（pass）动作。"
   ]
  },
  {
   "cell_type": "markdown",
   "id": "b90dd25f-fc28-4e60-a182-3ebf97c94f93",
   "metadata": {},
   "source": [
    "#### value head"
   ]
  },
  {
   "cell_type": "markdown",
   "id": "f586799b-8ed7-40f7-a96b-c448fe86cff7",
   "metadata": {},
   "source": [
    "- input 形状：(batch_size, 128, 9, 9)\n",
    "- conv, bn, relu, flatten\n",
    "    - Conv2d(128, 1, kernel_size=1), 1x1 卷积 => (batch_size, 1, 9, 9)\n",
    "    - 展平（Flatten）: (batch_size, 81)\n",
    "- fc\n",
    "    - Linear(81, 256) => (batch_size, 256)\n",
    "    - 增加特征维度，捕捉更复杂的模式。\n",
    "- 全连接层（Linear）\n",
    "    - Linear(256, 1)，生成单个价值得分。"
   ]
  }
 ],
 "metadata": {
  "kernelspec": {
   "display_name": "Python 3 (ipykernel)",
   "language": "python",
   "name": "python3"
  },
  "language_info": {
   "codemirror_mode": {
    "name": "ipython",
    "version": 3
   },
   "file_extension": ".py",
   "mimetype": "text/x-python",
   "name": "python",
   "nbconvert_exporter": "python",
   "pygments_lexer": "ipython3",
   "version": "3.10.13"
  }
 },
 "nbformat": 4,
 "nbformat_minor": 5
}
