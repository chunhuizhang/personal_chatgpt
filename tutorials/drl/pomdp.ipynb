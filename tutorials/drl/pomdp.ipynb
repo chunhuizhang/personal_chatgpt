{
 "cells": [
  {
   "cell_type": "markdown",
   "id": "3a716b22",
   "metadata": {},
   "source": [
    "## basics"
   ]
  },
  {
   "cell_type": "markdown",
   "id": "b82d904c",
   "metadata": {},
   "source": [
    "- references\n",
    "    - https://www.techfak.uni-bielefeld.de/~skopp/Lehre/STdKI_SS10/POMDP_tutorial.pdf\n",
    "    - https://www.pomdp.org/tutorial/"
   ]
  },
  {
   "cell_type": "markdown",
   "id": "f006190b",
   "metadata": {},
   "source": [
    "- 不同的 s（states），可能对应同一个 o（observation）\n",
    "    - 类比 HMM 的 hidden state（x） 与 observation （y）值，\n",
    "    - robot 的定位问题（即 where am I 这一 belief state），会随着 action 以及 partial observation 的进行，不断地更新；\n",
    "    - 在 POMDP 中，state 不可以直接观测，能直接观测的是 observation；"
   ]
  },
  {
   "cell_type": "markdown",
   "id": "247edc63",
   "metadata": {},
   "source": [
    "$$\n",
    "\\begin{split}\n",
    "&<S, A, T, R> \\quad\\Rightarrow\\quad <S,A,Z,T,R,O>\\\\\n",
    "&bel(s)\n",
    "\\end{split}\n",
    "$$\n",
    "\n",
    "- $Z$: observables\n",
    "- $O$: observable function\n",
    "- $b(s)$: probability we are in state $s$\n",
    "    - distribution over states\n",
    "    - $b, a, z -> b'$\n",
    "        - 当前 belief state，基于 policy，选择动作 $a$，基于 Transition（转移），看到 $z$，此时更新 $b$ 得到 $b'$\n",
    "        - POMDP 是一种 belief MDP；"
   ]
  },
  {
   "cell_type": "markdown",
   "id": "4f940e7c",
   "metadata": {},
   "source": [
    "## 一个例子（Tiger） "
   ]
  },
  {
   "cell_type": "markdown",
   "id": "fd7e993b",
   "metadata": {},
   "source": [
    "- https://cran.r-project.org/web/packages/pomdp/vignettes/POMDP.html"
   ]
  }
 ],
 "metadata": {
  "kernelspec": {
   "display_name": "Python 3 (ipykernel)",
   "language": "python",
   "name": "python3"
  },
  "language_info": {
   "codemirror_mode": {
    "name": "ipython",
    "version": 3
   },
   "file_extension": ".py",
   "mimetype": "text/x-python",
   "name": "python",
   "nbconvert_exporter": "python",
   "pygments_lexer": "ipython3",
   "version": "3.10.13"
  },
  "toc": {
   "base_numbering": 1,
   "nav_menu": {},
   "number_sections": true,
   "sideBar": true,
   "skip_h1_title": false,
   "title_cell": "Table of Contents",
   "title_sidebar": "Contents",
   "toc_cell": false,
   "toc_position": {},
   "toc_section_display": true,
   "toc_window_display": false
  }
 },
 "nbformat": 4,
 "nbformat_minor": 5
}
